{
 "cells": [
  {
   "cell_type": "markdown",
   "id": "ffbfe4c3-8887-400b-9382-a4d7cf0e2de9",
   "metadata": {},
   "source": [
    "## 3. Import the required packages with their customary aliases as follows:\n",
    "\n",
    "import pandas as pd\n",
    "import numpy as np\n",
    "import matplotlib.pyplot as plt\n",
    "import seaborn as sns"
   ]
  },
  {
   "cell_type": "code",
   "execution_count": 2,
   "id": "407ea693-b1ab-4446-860d-a149931efc00",
   "metadata": {},
   "outputs": [],
   "source": [
    "import pandas as pd\n",
    "import numpy as np\n",
    "import matplotlib.pyplot as plt\n",
    "import seaborn as sns"
   ]
  },
  {
   "cell_type": "code",
   "execution_count": 3,
   "id": "b348b0c3-b90e-45ee-af4c-c6d2f84498ff",
   "metadata": {},
   "outputs": [],
   "source": [
    "gdp_df = pd.read_csv('../data/gdp_percapita.csv')"
   ]
  },
  {
   "cell_type": "code",
   "execution_count": 4,
   "id": "3fd72caf-b98d-426b-9ffa-e6e16207a94d",
   "metadata": {},
   "outputs": [
    {
     "data": {
      "text/html": [
       "<div>\n",
       "<style scoped>\n",
       "    .dataframe tbody tr th:only-of-type {\n",
       "        vertical-align: middle;\n",
       "    }\n",
       "\n",
       "    .dataframe tbody tr th {\n",
       "        vertical-align: top;\n",
       "    }\n",
       "\n",
       "    .dataframe thead th {\n",
       "        text-align: right;\n",
       "    }\n",
       "</style>\n",
       "<table border=\"1\" class=\"dataframe\">\n",
       "  <thead>\n",
       "    <tr style=\"text-align: right;\">\n",
       "      <th></th>\n",
       "      <th>Country or Area</th>\n",
       "      <th>Year</th>\n",
       "      <th>Value</th>\n",
       "      <th>Value Footnotes</th>\n",
       "    </tr>\n",
       "  </thead>\n",
       "  <tbody>\n",
       "    <tr>\n",
       "      <th>0</th>\n",
       "      <td>Afghanistan</td>\n",
       "      <td>2023</td>\n",
       "      <td>1992.424394</td>\n",
       "      <td>NaN</td>\n",
       "    </tr>\n",
       "    <tr>\n",
       "      <th>1</th>\n",
       "      <td>Afghanistan</td>\n",
       "      <td>2022</td>\n",
       "      <td>1981.710168</td>\n",
       "      <td>NaN</td>\n",
       "    </tr>\n",
       "    <tr>\n",
       "      <th>2</th>\n",
       "      <td>Afghanistan</td>\n",
       "      <td>2021</td>\n",
       "      <td>2144.166570</td>\n",
       "      <td>NaN</td>\n",
       "    </tr>\n",
       "    <tr>\n",
       "      <th>3</th>\n",
       "      <td>Afghanistan</td>\n",
       "      <td>2020</td>\n",
       "      <td>2769.685745</td>\n",
       "      <td>NaN</td>\n",
       "    </tr>\n",
       "    <tr>\n",
       "      <th>4</th>\n",
       "      <td>Afghanistan</td>\n",
       "      <td>2019</td>\n",
       "      <td>2927.245144</td>\n",
       "      <td>NaN</td>\n",
       "    </tr>\n",
       "  </tbody>\n",
       "</table>\n",
       "</div>"
      ],
      "text/plain": [
       "  Country or Area  Year        Value  Value Footnotes\n",
       "0     Afghanistan  2023  1992.424394              NaN\n",
       "1     Afghanistan  2022  1981.710168              NaN\n",
       "2     Afghanistan  2021  2144.166570              NaN\n",
       "3     Afghanistan  2020  2769.685745              NaN\n",
       "4     Afghanistan  2019  2927.245144              NaN"
      ]
     },
     "execution_count": 4,
     "metadata": {},
     "output_type": "execute_result"
    }
   ],
   "source": [
    "gdp_df.head()"
   ]
  },
  {
   "cell_type": "markdown",
   "id": "eb385e3f-119c-427d-a6f6-c636ea755330",
   "metadata": {},
   "source": [
    "## 4. Using the pandas read_csv() method, read the GDP dataset into your notebook as a DataFrame called gdp_df. Take a look at the first few and last few rows to familiarize yourself with what is contained in this dataset."
   ]
  },
  {
   "cell_type": "markdown",
   "id": "e75d5ac7-b804-4bf3-a4fe-270aaee9ba28",
   "metadata": {},
   "source": [
    "## 5. How many rows and columns are in gdp_df? What are the data types of each column?\n",
    "rows: 8219, columns: 4"
   ]
  },
  {
   "cell_type": "code",
   "execution_count": 7,
   "id": "4c306df2-f127-43ff-93fe-8a2092459805",
   "metadata": {},
   "outputs": [
    {
     "name": "stdout",
     "output_type": "stream",
     "text": [
      "<class 'pandas.core.frame.DataFrame'>\n",
      "RangeIndex: 8219 entries, 0 to 8218\n",
      "Data columns (total 4 columns):\n",
      " #   Column           Non-Null Count  Dtype  \n",
      "---  ------           --------------  -----  \n",
      " 0   Country or Area  8219 non-null   object \n",
      " 1   Year             8219 non-null   int64  \n",
      " 2   Value            8219 non-null   float64\n",
      " 3   Value Footnotes  0 non-null      float64\n",
      "dtypes: float64(2), int64(1), object(1)\n",
      "memory usage: 257.0+ KB\n"
     ]
    }
   ],
   "source": [
    "gdp_df.info()"
   ]
  },
  {
   "cell_type": "markdown",
   "id": "cdadb7bc-62c5-4d13-9723-4a97f8c04525",
   "metadata": {},
   "source": [
    "## 6. Drop the Value Footnotes column and rename the remaining three to 'Country', 'Year', and 'GDP_Per_Capita'."
   ]
  },
  {
   "cell_type": "code",
   "execution_count": 9,
   "id": "866d79e0-d29f-4c82-80a1-39cfbe969b68",
   "metadata": {},
   "outputs": [
    {
     "data": {
      "text/html": [
       "<div>\n",
       "<style scoped>\n",
       "    .dataframe tbody tr th:only-of-type {\n",
       "        vertical-align: middle;\n",
       "    }\n",
       "\n",
       "    .dataframe tbody tr th {\n",
       "        vertical-align: top;\n",
       "    }\n",
       "\n",
       "    .dataframe thead th {\n",
       "        text-align: right;\n",
       "    }\n",
       "</style>\n",
       "<table border=\"1\" class=\"dataframe\">\n",
       "  <thead>\n",
       "    <tr style=\"text-align: right;\">\n",
       "      <th></th>\n",
       "      <th>Country or Area</th>\n",
       "      <th>Year</th>\n",
       "      <th>Value</th>\n",
       "    </tr>\n",
       "  </thead>\n",
       "  <tbody>\n",
       "    <tr>\n",
       "      <th>0</th>\n",
       "      <td>Afghanistan</td>\n",
       "      <td>2023</td>\n",
       "      <td>1992.424394</td>\n",
       "    </tr>\n",
       "    <tr>\n",
       "      <th>1</th>\n",
       "      <td>Afghanistan</td>\n",
       "      <td>2022</td>\n",
       "      <td>1981.710168</td>\n",
       "    </tr>\n",
       "    <tr>\n",
       "      <th>2</th>\n",
       "      <td>Afghanistan</td>\n",
       "      <td>2021</td>\n",
       "      <td>2144.166570</td>\n",
       "    </tr>\n",
       "    <tr>\n",
       "      <th>3</th>\n",
       "      <td>Afghanistan</td>\n",
       "      <td>2020</td>\n",
       "      <td>2769.685745</td>\n",
       "    </tr>\n",
       "    <tr>\n",
       "      <th>4</th>\n",
       "      <td>Afghanistan</td>\n",
       "      <td>2019</td>\n",
       "      <td>2927.245144</td>\n",
       "    </tr>\n",
       "  </tbody>\n",
       "</table>\n",
       "</div>"
      ],
      "text/plain": [
       "  Country or Area  Year        Value\n",
       "0     Afghanistan  2023  1992.424394\n",
       "1     Afghanistan  2022  1981.710168\n",
       "2     Afghanistan  2021  2144.166570\n",
       "3     Afghanistan  2020  2769.685745\n",
       "4     Afghanistan  2019  2927.245144"
      ]
     },
     "execution_count": 9,
     "metadata": {},
     "output_type": "execute_result"
    }
   ],
   "source": [
    "gdp_new = gdp_df.drop('Value Footnotes', axis=1)\n",
    "gdp_new.head()"
   ]
  },
  {
   "cell_type": "code",
   "execution_count": 10,
   "id": "14abe287-1491-4bf8-9897-0fa30dcb909c",
   "metadata": {},
   "outputs": [],
   "source": [
    "gdp_new = gdp_new.rename(columns={\"Country or Area\": \"Country\", \"Year\": \"Year\", \"Value\": \"GDP_Per_Capita\"})"
   ]
  },
  {
   "cell_type": "code",
   "execution_count": 11,
   "id": "d83c2b86-511b-4651-8c28-83744d5d819d",
   "metadata": {},
   "outputs": [
    {
     "data": {
      "text/html": [
       "<div>\n",
       "<style scoped>\n",
       "    .dataframe tbody tr th:only-of-type {\n",
       "        vertical-align: middle;\n",
       "    }\n",
       "\n",
       "    .dataframe tbody tr th {\n",
       "        vertical-align: top;\n",
       "    }\n",
       "\n",
       "    .dataframe thead th {\n",
       "        text-align: right;\n",
       "    }\n",
       "</style>\n",
       "<table border=\"1\" class=\"dataframe\">\n",
       "  <thead>\n",
       "    <tr style=\"text-align: right;\">\n",
       "      <th></th>\n",
       "      <th>Country</th>\n",
       "      <th>Year</th>\n",
       "      <th>GDP_Per_Capita</th>\n",
       "    </tr>\n",
       "  </thead>\n",
       "  <tbody>\n",
       "    <tr>\n",
       "      <th>0</th>\n",
       "      <td>Afghanistan</td>\n",
       "      <td>2023</td>\n",
       "      <td>1992.424394</td>\n",
       "    </tr>\n",
       "    <tr>\n",
       "      <th>1</th>\n",
       "      <td>Afghanistan</td>\n",
       "      <td>2022</td>\n",
       "      <td>1981.710168</td>\n",
       "    </tr>\n",
       "    <tr>\n",
       "      <th>2</th>\n",
       "      <td>Afghanistan</td>\n",
       "      <td>2021</td>\n",
       "      <td>2144.166570</td>\n",
       "    </tr>\n",
       "    <tr>\n",
       "      <th>3</th>\n",
       "      <td>Afghanistan</td>\n",
       "      <td>2020</td>\n",
       "      <td>2769.685745</td>\n",
       "    </tr>\n",
       "    <tr>\n",
       "      <th>4</th>\n",
       "      <td>Afghanistan</td>\n",
       "      <td>2019</td>\n",
       "      <td>2927.245144</td>\n",
       "    </tr>\n",
       "  </tbody>\n",
       "</table>\n",
       "</div>"
      ],
      "text/plain": [
       "       Country  Year  GDP_Per_Capita\n",
       "0  Afghanistan  2023     1992.424394\n",
       "1  Afghanistan  2022     1981.710168\n",
       "2  Afghanistan  2021     2144.166570\n",
       "3  Afghanistan  2020     2769.685745\n",
       "4  Afghanistan  2019     2927.245144"
      ]
     },
     "execution_count": 11,
     "metadata": {},
     "output_type": "execute_result"
    }
   ],
   "source": [
    "gdp_new.head()"
   ]
  },
  {
   "cell_type": "markdown",
   "id": "2880f4de-0fb6-4c74-bd46-c082eb58c100",
   "metadata": {},
   "source": [
    "## 7. How many countries have data for all years? (228) Which countries are missing many years of data? (19)Look at the number of observations per year. What do you notice?"
   ]
  },
  {
   "cell_type": "code",
   "execution_count": 13,
   "id": "e65a7d65-0fbb-4f36-8c80-efa7076b19e6",
   "metadata": {},
   "outputs": [
    {
     "name": "stdout",
     "output_type": "stream",
     "text": [
      "          Country  Year  GDP_Per_Capita\n",
      "0     Afghanistan  2023     1992.424394\n",
      "1     Afghanistan  2022     1981.710168\n",
      "2     Afghanistan  2021     2144.166570\n",
      "3     Afghanistan  2020     2769.685745\n",
      "4     Afghanistan  2019     2927.245144\n",
      "...           ...   ...             ...\n",
      "8214     Zimbabwe  1994     3965.730986\n",
      "8215     Zimbabwe  1993     3634.750494\n",
      "8216     Zimbabwe  1992     3649.891947\n",
      "8217     Zimbabwe  1991     4126.405247\n",
      "8218     Zimbabwe  1990     4013.299059\n",
      "\n",
      "[8219 rows x 3 columns]\n"
     ]
    }
   ],
   "source": [
    "print(gdp_new)"
   ]
  },
  {
   "cell_type": "code",
   "execution_count": 14,
   "id": "e8a0cfa3-3cd0-4e3e-bfec-15b9fe398450",
   "metadata": {},
   "outputs": [
    {
     "name": "stdout",
     "output_type": "stream",
     "text": [
      "<class 'pandas.core.frame.DataFrame'>\n",
      "RangeIndex: 8219 entries, 0 to 8218\n",
      "Data columns (total 3 columns):\n",
      " #   Column          Non-Null Count  Dtype  \n",
      "---  ------          --------------  -----  \n",
      " 0   Country         8219 non-null   object \n",
      " 1   Year            8219 non-null   int64  \n",
      " 2   GDP_Per_Capita  8219 non-null   float64\n",
      "dtypes: float64(1), int64(1), object(1)\n",
      "memory usage: 192.8+ KB\n"
     ]
    }
   ],
   "source": [
    "gdp_new.info()"
   ]
  },
  {
   "cell_type": "code",
   "execution_count": 15,
   "id": "0e18f976-8899-4712-a3ee-cddb3c86d33c",
   "metadata": {},
   "outputs": [
    {
     "name": "stdout",
     "output_type": "stream",
     "text": [
      "247\n"
     ]
    }
   ],
   "source": [
    "unique_countries = gdp_new['Country'].nunique()\n",
    "print(unique_countries)"
   ]
  },
  {
   "cell_type": "code",
   "execution_count": 16,
   "id": "0733ee7b-1442-41bd-8c88-a1563f3d9bcf",
   "metadata": {},
   "outputs": [
    {
     "name": "stdout",
     "output_type": "stream",
     "text": [
      "      Country   Year  GDP_Per_Capita\n",
      "0       False  False           False\n",
      "1       False  False           False\n",
      "2       False  False           False\n",
      "3       False  False           False\n",
      "4       False  False           False\n",
      "...       ...    ...             ...\n",
      "8214    False  False           False\n",
      "8215    False  False           False\n",
      "8216    False  False           False\n",
      "8217    False  False           False\n",
      "8218    False  False           False\n",
      "\n",
      "[8219 rows x 3 columns]\n"
     ]
    }
   ],
   "source": [
    "missing_values = gdp_new.isna()\n",
    "print(missing_values)"
   ]
  },
  {
   "cell_type": "code",
   "execution_count": 17,
   "id": "2e10e35c-caec-4978-b655-6b50c49b421c",
   "metadata": {},
   "outputs": [
    {
     "data": {
      "text/plain": [
       "Country\n",
       "Latvia                       34\n",
       "North America                34\n",
       "Mongolia                     34\n",
       "Morocco                      34\n",
       "Mozambique                   34\n",
       "                             ..\n",
       "Faroe Islands                16\n",
       "Kosovo                       16\n",
       "Sint Maarten (Dutch part)    15\n",
       "Turks and Caicos Islands     13\n",
       "Djibouti                     11\n",
       "Name: count, Length: 247, dtype: int64"
      ]
     },
     "execution_count": 17,
     "metadata": {},
     "output_type": "execute_result"
    }
   ],
   "source": [
    "gdp_new['Country'].value_counts()"
   ]
  },
  {
   "cell_type": "code",
   "execution_count": 18,
   "id": "e9252504-a502-4f0f-ac8c-e561ff45868c",
   "metadata": {},
   "outputs": [],
   "source": [
    "country_counts = gdp_new['Country'].value_counts()"
   ]
  },
  {
   "cell_type": "code",
   "execution_count": 19,
   "id": "86fd2e73-3789-439c-9a8c-3756f87f368a",
   "metadata": {},
   "outputs": [
    {
     "name": "stdout",
     "output_type": "stream",
     "text": [
      "Country\n",
      "Latvia                       34\n",
      "North America                34\n",
      "Mongolia                     34\n",
      "Morocco                      34\n",
      "Mozambique                   34\n",
      "                             ..\n",
      "Faroe Islands                16\n",
      "Kosovo                       16\n",
      "Sint Maarten (Dutch part)    15\n",
      "Turks and Caicos Islands     13\n",
      "Djibouti                     11\n",
      "Name: count, Length: 247, dtype: int64\n"
     ]
    }
   ],
   "source": [
    "print(country_counts)"
   ]
  },
  {
   "cell_type": "code",
   "execution_count": 20,
   "id": "2f2604c3-92c3-4a35-bf41-708eaa1d122b",
   "metadata": {},
   "outputs": [
    {
     "name": "stdout",
     "output_type": "stream",
     "text": [
      "<class 'pandas.core.series.Series'>\n",
      "Index: 247 entries, Latvia to Djibouti\n",
      "Series name: count\n",
      "Non-Null Count  Dtype\n",
      "--------------  -----\n",
      "247 non-null    int64\n",
      "dtypes: int64(1)\n",
      "memory usage: 3.9+ KB\n"
     ]
    }
   ],
   "source": [
    "country_counts.info()"
   ]
  },
  {
   "cell_type": "code",
   "execution_count": 21,
   "id": "d68b62ef-20e1-46f4-b62f-b2d4dd800972",
   "metadata": {},
   "outputs": [
    {
     "data": {
      "text/html": [
       "<div>\n",
       "<style scoped>\n",
       "    .dataframe tbody tr th:only-of-type {\n",
       "        vertical-align: middle;\n",
       "    }\n",
       "\n",
       "    .dataframe tbody tr th {\n",
       "        vertical-align: top;\n",
       "    }\n",
       "\n",
       "    .dataframe thead th {\n",
       "        text-align: right;\n",
       "    }\n",
       "</style>\n",
       "<table border=\"1\" class=\"dataframe\">\n",
       "  <thead>\n",
       "    <tr style=\"text-align: right;\">\n",
       "      <th></th>\n",
       "      <th>Country</th>\n",
       "      <th>Year</th>\n",
       "    </tr>\n",
       "  </thead>\n",
       "  <tbody>\n",
       "    <tr>\n",
       "      <th>0</th>\n",
       "      <td>Afghanistan</td>\n",
       "      <td>24</td>\n",
       "    </tr>\n",
       "    <tr>\n",
       "      <th>1</th>\n",
       "      <td>Africa Eastern and Southern</td>\n",
       "      <td>34</td>\n",
       "    </tr>\n",
       "    <tr>\n",
       "      <th>2</th>\n",
       "      <td>Africa Western and Central</td>\n",
       "      <td>34</td>\n",
       "    </tr>\n",
       "    <tr>\n",
       "      <th>3</th>\n",
       "      <td>Albania</td>\n",
       "      <td>34</td>\n",
       "    </tr>\n",
       "    <tr>\n",
       "      <th>4</th>\n",
       "      <td>Algeria</td>\n",
       "      <td>34</td>\n",
       "    </tr>\n",
       "    <tr>\n",
       "      <th>...</th>\n",
       "      <td>...</td>\n",
       "      <td>...</td>\n",
       "    </tr>\n",
       "    <tr>\n",
       "      <th>242</th>\n",
       "      <td>Virgin Islands</td>\n",
       "      <td>21</td>\n",
       "    </tr>\n",
       "    <tr>\n",
       "      <th>243</th>\n",
       "      <td>West Bank and Gaza</td>\n",
       "      <td>30</td>\n",
       "    </tr>\n",
       "    <tr>\n",
       "      <th>244</th>\n",
       "      <td>World</td>\n",
       "      <td>34</td>\n",
       "    </tr>\n",
       "    <tr>\n",
       "      <th>245</th>\n",
       "      <td>Zambia</td>\n",
       "      <td>34</td>\n",
       "    </tr>\n",
       "    <tr>\n",
       "      <th>246</th>\n",
       "      <td>Zimbabwe</td>\n",
       "      <td>34</td>\n",
       "    </tr>\n",
       "  </tbody>\n",
       "</table>\n",
       "<p>247 rows × 2 columns</p>\n",
       "</div>"
      ],
      "text/plain": [
       "                         Country  Year\n",
       "0                    Afghanistan    24\n",
       "1    Africa Eastern and Southern    34\n",
       "2     Africa Western and Central    34\n",
       "3                        Albania    34\n",
       "4                        Algeria    34\n",
       "..                           ...   ...\n",
       "242               Virgin Islands    21\n",
       "243           West Bank and Gaza    30\n",
       "244                        World    34\n",
       "245                       Zambia    34\n",
       "246                     Zimbabwe    34\n",
       "\n",
       "[247 rows x 2 columns]"
      ]
     },
     "execution_count": 21,
     "metadata": {},
     "output_type": "execute_result"
    }
   ],
   "source": [
    "gdp_new.groupby('Country')['Year'].count().reset_index()"
   ]
  },
  {
   "cell_type": "code",
   "execution_count": 22,
   "id": "971f27a5-d8c4-407a-a576-4bbf05158fe9",
   "metadata": {},
   "outputs": [
    {
     "data": {
      "text/plain": [
       "Country    19\n",
       "Year       19\n",
       "dtype: int64"
      ]
     },
     "execution_count": 22,
     "metadata": {},
     "output_type": "execute_result"
    }
   ],
   "source": [
    "countries_df = gdp_new.groupby('Country')['Year'].count().reset_index()\n",
    "countries_df.max()\n",
    "countries_df[countries_df['Year']<34].count()"
   ]
  },
  {
   "cell_type": "code",
   "execution_count": 23,
   "id": "dd6f4799-6b90-4afc-a1a5-fe912804c41e",
   "metadata": {},
   "outputs": [
    {
     "data": {
      "text/plain": [
       "Country    228\n",
       "Year       228\n",
       "dtype: int64"
      ]
     },
     "execution_count": 23,
     "metadata": {},
     "output_type": "execute_result"
    }
   ],
   "source": [
    "countries_df[countries_df['Year']>=34].count()"
   ]
  },
  {
   "cell_type": "code",
   "execution_count": 24,
   "id": "51746f50-bf17-442a-808d-3374bbe4fe35",
   "metadata": {},
   "outputs": [],
   "source": [
    "countries_missing_data = countries_df[countries_df['Year']<34]"
   ]
  },
  {
   "cell_type": "code",
   "execution_count": 25,
   "id": "4a1411d2-7f61-4a5f-ac03-8743850bf9ef",
   "metadata": {},
   "outputs": [
    {
     "name": "stdout",
     "output_type": "stream",
     "text": [
      "                       Country  Year\n",
      "0                  Afghanistan    24\n",
      "23                      Bhutan    33\n",
      "37              Cayman Islands    18\n",
      "48                    CuraÃ§ao    24\n",
      "54                    Djibouti    11\n",
      "73               Faroe Islands    16\n",
      "83                   Greenland    32\n",
      "115                     Kosovo    16\n",
      "125                    Lebanon    33\n",
      "152                 Montenegro    27\n",
      "188                 San Marino    26\n",
      "191                     Serbia    29\n",
      "195  Sint Maarten (Dutch part)    15\n",
      "200                    Somalia    33\n",
      "216       Syrian Arab Republic    33\n",
      "225                      Tonga    33\n",
      "229   Turks and Caicos Islands    13\n",
      "242             Virgin Islands    21\n",
      "243         West Bank and Gaza    30\n"
     ]
    }
   ],
   "source": [
    "print(countries_missing_data)"
   ]
  },
  {
   "cell_type": "code",
   "execution_count": 26,
   "id": "92262b8e-d30c-43e0-a557-4eacc98dd765",
   "metadata": {
    "scrolled": true
   },
   "outputs": [
    {
     "data": {
      "text/plain": [
       "Year\n",
       "1990    233\n",
       "1991    234\n",
       "1992    234\n",
       "1993    234\n",
       "1994    235\n",
       "1995    236\n",
       "1996    236\n",
       "1997    238\n",
       "1998    238\n",
       "1999    238\n",
       "2000    240\n",
       "2001    240\n",
       "2002    241\n",
       "2003    241\n",
       "2004    241\n",
       "2005    241\n",
       "2006    242\n",
       "2007    242\n",
       "2008    244\n",
       "2009    245\n",
       "2010    245\n",
       "2011    246\n",
       "2012    246\n",
       "2013    247\n",
       "2014    247\n",
       "2015    247\n",
       "2016    247\n",
       "2017    247\n",
       "2018    247\n",
       "2019    247\n",
       "2020    247\n",
       "2021    247\n",
       "2022    246\n",
       "2023    240\n",
       "Name: Country, dtype: int64"
      ]
     },
     "execution_count": 26,
     "metadata": {},
     "output_type": "execute_result"
    }
   ],
   "source": [
    "gdp_new.groupby('Year')['Country'].count()"
   ]
  },
  {
   "cell_type": "markdown",
   "id": "ab9bcabf-287c-4072-8610-6efe894734a0",
   "metadata": {},
   "source": [
    "## 8.In this question, you're going to create some plots to show the distribution of GDP per capita for the year 2020. Go to the Python Graph Gallery (https://www.python-graph-gallery.com/) and look at the different types of plots under the Distribution section. Create a histogram, a density plot, a boxplot, and a violin plot. What do you notice when you look at these plots? How do the plots compare and what information can you get out of one type that you can't necessarily get out of the others?"
   ]
  },
  {
   "cell_type": "code",
   "execution_count": 28,
   "id": "ad516817-e8f4-400a-b736-d57c2ac2c91e",
   "metadata": {},
   "outputs": [],
   "source": [
    "gdp_2020 = gdp_new[gdp_new['Year']==2020]"
   ]
  },
  {
   "cell_type": "code",
   "execution_count": 29,
   "id": "1d4c9ebd-fb0e-4d91-8680-291552c1913d",
   "metadata": {},
   "outputs": [
    {
     "data": {
      "text/html": [
       "<div>\n",
       "<style scoped>\n",
       "    .dataframe tbody tr th:only-of-type {\n",
       "        vertical-align: middle;\n",
       "    }\n",
       "\n",
       "    .dataframe tbody tr th {\n",
       "        vertical-align: top;\n",
       "    }\n",
       "\n",
       "    .dataframe thead th {\n",
       "        text-align: right;\n",
       "    }\n",
       "</style>\n",
       "<table border=\"1\" class=\"dataframe\">\n",
       "  <thead>\n",
       "    <tr style=\"text-align: right;\">\n",
       "      <th></th>\n",
       "      <th>index</th>\n",
       "      <th>Country</th>\n",
       "      <th>Year</th>\n",
       "      <th>GDP_Per_Capita</th>\n",
       "    </tr>\n",
       "  </thead>\n",
       "  <tbody>\n",
       "    <tr>\n",
       "      <th>0</th>\n",
       "      <td>3</td>\n",
       "      <td>Afghanistan</td>\n",
       "      <td>2020</td>\n",
       "      <td>2769.685745</td>\n",
       "    </tr>\n",
       "    <tr>\n",
       "      <th>1</th>\n",
       "      <td>27</td>\n",
       "      <td>Africa Eastern and Southern</td>\n",
       "      <td>2020</td>\n",
       "      <td>3861.111238</td>\n",
       "    </tr>\n",
       "    <tr>\n",
       "      <th>2</th>\n",
       "      <td>61</td>\n",
       "      <td>Africa Western and Central</td>\n",
       "      <td>2020</td>\n",
       "      <td>4622.731427</td>\n",
       "    </tr>\n",
       "    <tr>\n",
       "      <th>3</th>\n",
       "      <td>95</td>\n",
       "      <td>Albania</td>\n",
       "      <td>2020</td>\n",
       "      <td>14650.395929</td>\n",
       "    </tr>\n",
       "    <tr>\n",
       "      <th>4</th>\n",
       "      <td>129</td>\n",
       "      <td>Algeria</td>\n",
       "      <td>2020</td>\n",
       "      <td>14194.155748</td>\n",
       "    </tr>\n",
       "    <tr>\n",
       "      <th>...</th>\n",
       "      <td>...</td>\n",
       "      <td>...</td>\n",
       "      <td>...</td>\n",
       "      <td>...</td>\n",
       "    </tr>\n",
       "    <tr>\n",
       "      <th>242</th>\n",
       "      <td>8068</td>\n",
       "      <td>Virgin Islands</td>\n",
       "      <td>2020</td>\n",
       "      <td>45055.782930</td>\n",
       "    </tr>\n",
       "    <tr>\n",
       "      <th>243</th>\n",
       "      <td>8090</td>\n",
       "      <td>West Bank and Gaza</td>\n",
       "      <td>2020</td>\n",
       "      <td>5423.682547</td>\n",
       "    </tr>\n",
       "    <tr>\n",
       "      <th>244</th>\n",
       "      <td>8120</td>\n",
       "      <td>World</td>\n",
       "      <td>2020</td>\n",
       "      <td>18600.986362</td>\n",
       "    </tr>\n",
       "    <tr>\n",
       "      <th>245</th>\n",
       "      <td>8154</td>\n",
       "      <td>Zambia</td>\n",
       "      <td>2020</td>\n",
       "      <td>3391.595412</td>\n",
       "    </tr>\n",
       "    <tr>\n",
       "      <th>246</th>\n",
       "      <td>8188</td>\n",
       "      <td>Zimbabwe</td>\n",
       "      <td>2020</td>\n",
       "      <td>2987.269823</td>\n",
       "    </tr>\n",
       "  </tbody>\n",
       "</table>\n",
       "<p>247 rows × 4 columns</p>\n",
       "</div>"
      ],
      "text/plain": [
       "     index                      Country  Year  GDP_Per_Capita\n",
       "0        3                  Afghanistan  2020     2769.685745\n",
       "1       27  Africa Eastern and Southern  2020     3861.111238\n",
       "2       61   Africa Western and Central  2020     4622.731427\n",
       "3       95                      Albania  2020    14650.395929\n",
       "4      129                      Algeria  2020    14194.155748\n",
       "..     ...                          ...   ...             ...\n",
       "242   8068               Virgin Islands  2020    45055.782930\n",
       "243   8090           West Bank and Gaza  2020     5423.682547\n",
       "244   8120                        World  2020    18600.986362\n",
       "245   8154                       Zambia  2020     3391.595412\n",
       "246   8188                     Zimbabwe  2020     2987.269823\n",
       "\n",
       "[247 rows x 4 columns]"
      ]
     },
     "execution_count": 29,
     "metadata": {},
     "output_type": "execute_result"
    }
   ],
   "source": [
    "gdp_2020.reset_index()"
   ]
  },
  {
   "cell_type": "code",
   "execution_count": 30,
   "id": "1c19ec5b-43ae-4879-8b09-2ff7f625dd0a",
   "metadata": {},
   "outputs": [
    {
     "name": "stdout",
     "output_type": "stream",
     "text": [
      "                          Country  Year  GDP_Per_Capita\n",
      "3                     Afghanistan  2020     2769.685745\n",
      "27    Africa Eastern and Southern  2020     3861.111238\n",
      "61     Africa Western and Central  2020     4622.731427\n",
      "95                        Albania  2020    14650.395929\n",
      "129                       Algeria  2020    14194.155748\n",
      "...                           ...   ...             ...\n",
      "8068               Virgin Islands  2020    45055.782930\n",
      "8090           West Bank and Gaza  2020     5423.682547\n",
      "8120                        World  2020    18600.986362\n",
      "8154                       Zambia  2020     3391.595412\n",
      "8188                     Zimbabwe  2020     2987.269823\n",
      "\n",
      "[247 rows x 3 columns]\n"
     ]
    }
   ],
   "source": [
    "print(gdp_2020)"
   ]
  },
  {
   "cell_type": "code",
   "execution_count": 31,
   "id": "06347ab1-0f93-401c-9f47-43e400137e14",
   "metadata": {},
   "outputs": [
    {
     "data": {
      "text/html": [
       "<div>\n",
       "<style scoped>\n",
       "    .dataframe tbody tr th:only-of-type {\n",
       "        vertical-align: middle;\n",
       "    }\n",
       "\n",
       "    .dataframe tbody tr th {\n",
       "        vertical-align: top;\n",
       "    }\n",
       "\n",
       "    .dataframe thead th {\n",
       "        text-align: right;\n",
       "    }\n",
       "</style>\n",
       "<table border=\"1\" class=\"dataframe\">\n",
       "  <thead>\n",
       "    <tr style=\"text-align: right;\">\n",
       "      <th></th>\n",
       "      <th>Country</th>\n",
       "      <th>Year</th>\n",
       "      <th>GDP_Per_Capita</th>\n",
       "    </tr>\n",
       "  </thead>\n",
       "  <tbody>\n",
       "    <tr>\n",
       "      <th>3</th>\n",
       "      <td>Afghanistan</td>\n",
       "      <td>2020</td>\n",
       "      <td>2769.685745</td>\n",
       "    </tr>\n",
       "    <tr>\n",
       "      <th>27</th>\n",
       "      <td>Africa Eastern and Southern</td>\n",
       "      <td>2020</td>\n",
       "      <td>3861.111238</td>\n",
       "    </tr>\n",
       "    <tr>\n",
       "      <th>61</th>\n",
       "      <td>Africa Western and Central</td>\n",
       "      <td>2020</td>\n",
       "      <td>4622.731427</td>\n",
       "    </tr>\n",
       "    <tr>\n",
       "      <th>95</th>\n",
       "      <td>Albania</td>\n",
       "      <td>2020</td>\n",
       "      <td>14650.395929</td>\n",
       "    </tr>\n",
       "    <tr>\n",
       "      <th>129</th>\n",
       "      <td>Algeria</td>\n",
       "      <td>2020</td>\n",
       "      <td>14194.155748</td>\n",
       "    </tr>\n",
       "  </tbody>\n",
       "</table>\n",
       "</div>"
      ],
      "text/plain": [
       "                         Country  Year  GDP_Per_Capita\n",
       "3                    Afghanistan  2020     2769.685745\n",
       "27   Africa Eastern and Southern  2020     3861.111238\n",
       "61    Africa Western and Central  2020     4622.731427\n",
       "95                       Albania  2020    14650.395929\n",
       "129                      Algeria  2020    14194.155748"
      ]
     },
     "execution_count": 31,
     "metadata": {},
     "output_type": "execute_result"
    }
   ],
   "source": [
    "gdp_2020.head()"
   ]
  },
  {
   "cell_type": "markdown",
   "id": "b08d1258-f0ca-44d1-86ba-67b817fbd7fc",
   "metadata": {},
   "source": [
    "HISTOGRAM"
   ]
  },
  {
   "cell_type": "code",
   "execution_count": 33,
   "id": "bcf72299-1182-4b26-92aa-570327ee5287",
   "metadata": {},
   "outputs": [
    {
     "data": {
      "text/plain": [
       "(array([111.,  59.,  23.,  23.,  15.,   9.,   3.,   0.,   3.,   1.]),\n",
       " array([   833.92025746,  13576.18426579,  26318.44827412,  39060.71228245,\n",
       "         51802.97629078,  64545.24029911,  77287.50430744,  90029.76831577,\n",
       "        102772.0323241 , 115514.29633243, 128256.56034076]),\n",
       " <BarContainer object of 10 artists>)"
      ]
     },
     "execution_count": 33,
     "metadata": {},
     "output_type": "execute_result"
    },
    {
     "data": {
      "image/png": "[encoded data removed]",
      "text/plain": [
       "<Figure size 640x480 with 1 Axes>"
      ]
     },
     "metadata": {},
     "output_type": "display_data"
    }
   ],
   "source": [
    "plt.hist(gdp_2020['GDP_Per_Capita'])"
   ]
  },
  {
   "cell_type": "markdown",
   "id": "a90b828b-6aca-4010-8fb4-ab7c8983bec4",
   "metadata": {},
   "source": [
    "DENSITY PLOT"
   ]
  },
  {
   "cell_type": "code",
   "execution_count": 35,
   "id": "65224d28-1047-4cb7-8305-16267ab6ea37",
   "metadata": {},
   "outputs": [
    {
     "data": {
      "text/plain": [
       "<Axes: xlabel='GDP_Per_Capita', ylabel='Density'>"
      ]
     },
     "execution_count": 35,
     "metadata": {},
     "output_type": "execute_result"
    },
    {
     "data": {
      "image/png": "[encoded data removed]",
      "text/plain": [
       "<Figure size 640x480 with 1 Axes>"
      ]
     },
     "metadata": {},
     "output_type": "display_data"
    }
   ],
   "source": [
    "sns.kdeplot(gdp_2020['GDP_Per_Capita'])"
   ]
  },
  {
   "cell_type": "markdown",
   "id": "11245f8b-975b-4c0c-b3c5-bb4138f32a2e",
   "metadata": {},
   "source": [
    "BOXPLOT"
   ]
  },
  {
   "cell_type": "code",
   "execution_count": 37,
   "id": "57eadcf8-e4cb-4da9-8598-3f2f74aba924",
   "metadata": {},
   "outputs": [
    {
     "data": {
      "text/plain": [
       "<Axes: ylabel='GDP_Per_Capita'>"
      ]
     },
     "execution_count": 37,
     "metadata": {},
     "output_type": "execute_result"
    },
    {
     "data": {
      "image/png": "[encoded data removed]",
      "text/plain": [
       "<Figure size 640x480 with 1 Axes>"
      ]
     },
     "metadata": {},
     "output_type": "display_data"
    }
   ],
   "source": [
    "sns.boxplot(gdp_2020['GDP_Per_Capita'])"
   ]
  },
  {
   "cell_type": "markdown",
   "id": "223a8559-1485-498c-8b2e-f7a8ea25fb18",
   "metadata": {},
   "source": [
    "VIOLIN PLOT"
   ]
  },
  {
   "cell_type": "code",
   "execution_count": 39,
   "id": "be0694aa-afff-4cbd-aa08-d2f4e62e8fc6",
   "metadata": {},
   "outputs": [
    {
     "data": {
      "text/plain": [
       "<Axes: ylabel='GDP_Per_Capita'>"
      ]
     },
     "execution_count": 39,
     "metadata": {},
     "output_type": "execute_result"
    },
    {
     "data": {
      "image/png": "[encoded data removed]",
      "text/plain": [
       "<Figure size 640x480 with 1 Axes>"
      ]
     },
     "metadata": {},
     "output_type": "display_data"
    }
   ],
   "source": [
    "sns.violinplot(gdp_2020['GDP_Per_Capita'])"
   ]
  },
  {
   "cell_type": "markdown",
   "id": "c7715e08-a174-420d-9293-753ed967985b",
   "metadata": {},
   "source": [
    "## 9. What was the median GDP per capita value in 2020?"
   ]
  },
  {
   "cell_type": "code",
   "execution_count": 41,
   "id": "79bf3899-6ff5-4aaa-b322-e3fceec3770c",
   "metadata": {},
   "outputs": [
    {
     "data": {
      "text/plain": [
       "15309.23598817024"
      ]
     },
     "execution_count": 41,
     "metadata": {},
     "output_type": "execute_result"
    }
   ],
   "source": [
    "gdp_2020.GDP_Per_Capita.median()"
   ]
  },
  {
   "cell_type": "markdown",
   "id": "06132088-bbdf-4518-9b54-7265cb630cec",
   "metadata": {},
   "source": [
    "## 10. For this question, you're going to create some visualizations to compare GDP per capita values for the years 1990, 2000, 2010, and 2020. Start by subsetting your data to just these 4 years into a new DataFrame named gdp_decades. Using this, create the following 4 plots:"
   ]
  },
  {
   "cell_type": "code",
   "execution_count": 43,
   "id": "9cb61e5e-537f-4264-ac67-8c5b7f56b0bf",
   "metadata": {},
   "outputs": [],
   "source": [
    "gdp_decades = gdp_new[(gdp_new[\"Year\"] == 1990) | (gdp_df[\"Year\"] == 2000) | (gdp_df[\"Year\"] == 2010) | (gdp_df[\"Year\"] == 2020)]"
   ]
  },
  {
   "cell_type": "code",
   "execution_count": 44,
   "id": "45c1883f-0758-4618-adbc-aaa7fbcf0d85",
   "metadata": {},
   "outputs": [],
   "source": [
    "#or isin"
   ]
  },
  {
   "cell_type": "code",
   "execution_count": 45,
   "id": "7b13cde1-672a-436e-ad8b-ec819758118d",
   "metadata": {},
   "outputs": [
    {
     "data": {
      "text/html": [
       "<div>\n",
       "<style scoped>\n",
       "    .dataframe tbody tr th:only-of-type {\n",
       "        vertical-align: middle;\n",
       "    }\n",
       "\n",
       "    .dataframe tbody tr th {\n",
       "        vertical-align: top;\n",
       "    }\n",
       "\n",
       "    .dataframe thead th {\n",
       "        text-align: right;\n",
       "    }\n",
       "</style>\n",
       "<table border=\"1\" class=\"dataframe\">\n",
       "  <thead>\n",
       "    <tr style=\"text-align: right;\">\n",
       "      <th></th>\n",
       "      <th>Country</th>\n",
       "      <th>Year</th>\n",
       "      <th>GDP_Per_Capita</th>\n",
       "    </tr>\n",
       "  </thead>\n",
       "  <tbody>\n",
       "    <tr>\n",
       "      <th>3</th>\n",
       "      <td>Afghanistan</td>\n",
       "      <td>2020</td>\n",
       "      <td>2769.685745</td>\n",
       "    </tr>\n",
       "    <tr>\n",
       "      <th>13</th>\n",
       "      <td>Afghanistan</td>\n",
       "      <td>2010</td>\n",
       "      <td>2848.586061</td>\n",
       "    </tr>\n",
       "    <tr>\n",
       "      <th>23</th>\n",
       "      <td>Afghanistan</td>\n",
       "      <td>2000</td>\n",
       "      <td>1617.826475</td>\n",
       "    </tr>\n",
       "    <tr>\n",
       "      <th>27</th>\n",
       "      <td>Africa Eastern and Southern</td>\n",
       "      <td>2020</td>\n",
       "      <td>3861.111238</td>\n",
       "    </tr>\n",
       "    <tr>\n",
       "      <th>37</th>\n",
       "      <td>Africa Eastern and Southern</td>\n",
       "      <td>2010</td>\n",
       "      <td>3863.836012</td>\n",
       "    </tr>\n",
       "    <tr>\n",
       "      <th>...</th>\n",
       "      <td>...</td>\n",
       "      <td>...</td>\n",
       "      <td>...</td>\n",
       "    </tr>\n",
       "    <tr>\n",
       "      <th>8184</th>\n",
       "      <td>Zambia</td>\n",
       "      <td>1990</td>\n",
       "      <td>2425.111287</td>\n",
       "    </tr>\n",
       "    <tr>\n",
       "      <th>8188</th>\n",
       "      <td>Zimbabwe</td>\n",
       "      <td>2020</td>\n",
       "      <td>2987.269823</td>\n",
       "    </tr>\n",
       "    <tr>\n",
       "      <th>8198</th>\n",
       "      <td>Zimbabwe</td>\n",
       "      <td>2010</td>\n",
       "      <td>2572.769992</td>\n",
       "    </tr>\n",
       "    <tr>\n",
       "      <th>8208</th>\n",
       "      <td>Zimbabwe</td>\n",
       "      <td>2000</td>\n",
       "      <td>4071.022001</td>\n",
       "    </tr>\n",
       "    <tr>\n",
       "      <th>8218</th>\n",
       "      <td>Zimbabwe</td>\n",
       "      <td>1990</td>\n",
       "      <td>4013.299059</td>\n",
       "    </tr>\n",
       "  </tbody>\n",
       "</table>\n",
       "<p>965 rows × 3 columns</p>\n",
       "</div>"
      ],
      "text/plain": [
       "                          Country  Year  GDP_Per_Capita\n",
       "3                     Afghanistan  2020     2769.685745\n",
       "13                    Afghanistan  2010     2848.586061\n",
       "23                    Afghanistan  2000     1617.826475\n",
       "27    Africa Eastern and Southern  2020     3861.111238\n",
       "37    Africa Eastern and Southern  2010     3863.836012\n",
       "...                           ...   ...             ...\n",
       "8184                       Zambia  1990     2425.111287\n",
       "8188                     Zimbabwe  2020     2987.269823\n",
       "8198                     Zimbabwe  2010     2572.769992\n",
       "8208                     Zimbabwe  2000     4071.022001\n",
       "8218                     Zimbabwe  1990     4013.299059\n",
       "\n",
       "[965 rows x 3 columns]"
      ]
     },
     "execution_count": 45,
     "metadata": {},
     "output_type": "execute_result"
    }
   ],
   "source": [
    "gdp_decades"
   ]
  },
  {
   "cell_type": "markdown",
   "id": "cc2429a1-5800-45b9-9fcc-838b84517f46",
   "metadata": {},
   "source": [
    "BOXPLOT"
   ]
  },
  {
   "cell_type": "code",
   "execution_count": 50,
   "id": "f0ffb6b7-a310-45bf-b295-76db5442476c",
   "metadata": {},
   "outputs": [
    {
     "data": {
      "text/plain": [
       "<Axes: xlabel='Year', ylabel='GDP_Per_Capita'>"
      ]
     },
     "execution_count": 50,
     "metadata": {},
     "output_type": "execute_result"
    },
    {
     "data": {
      "image/png": "[encoded data removed]",
      "text/plain": [
       "<Figure size 640x480 with 1 Axes>"
      ]
     },
     "metadata": {},
     "output_type": "display_data"
    }
   ],
   "source": [
    "sns.boxplot(x = gdp_decades['Year'], y = gdp_decades['GDP_Per_Capita'])"
   ]
  },
  {
   "cell_type": "markdown",
   "id": "4b24c7f8-1240-43ef-89ab-b4aa155dfc3b",
   "metadata": {},
   "source": [
    "BARPLOT"
   ]
  },
  {
   "cell_type": "code",
   "execution_count": 52,
   "id": "c6dc637c-9d28-4608-aea0-f114afc38997",
   "metadata": {},
   "outputs": [
    {
     "data": {
      "text/plain": [
       "<Axes: xlabel='Year', ylabel='GDP_Per_Capita'>"
      ]
     },
     "execution_count": 52,
     "metadata": {},
     "output_type": "execute_result"
    },
    {
     "data": {
      "image/png": "[encoded data removed]",
      "text/plain": [
       "<Figure size 640x480 with 1 Axes>"
      ]
     },
     "metadata": {},
     "output_type": "display_data"
    }
   ],
   "source": [
    "sns.barplot(x=gdp_decades['Year'], y=gdp_decades['GDP_Per_Capita'])"
   ]
  },
  {
   "cell_type": "markdown",
   "id": "fb13a08a-b25a-4044-a91e-c596ccd19ad8",
   "metadata": {},
   "source": [
    "SCATTERPLOT"
   ]
  },
  {
   "cell_type": "code",
   "execution_count": 46,
   "id": "30e44a35-d6e0-4dca-9fd3-86b314d2f354",
   "metadata": {},
   "outputs": [
    {
     "data": {
      "text/plain": [
       "<matplotlib.collections.PathCollection at 0x29137098110>"
      ]
     },
     "execution_count": 46,
     "metadata": {},
     "output_type": "execute_result"
    },
    {
     "data": {
      "image/png": "[encoded data removed]",
      "text/plain": [
       "<Figure size 640x480 with 1 Axes>"
      ]
     },
     "metadata": {},
     "output_type": "display_data"
    }
   ],
   "source": [
    "plt.scatter(gdp_decades.Year, gdp_decades.GDP_Per_Capita)"
   ]
  },
  {
   "cell_type": "markdown",
   "id": "61542130-66bf-490a-a68c-c3b294c4957f",
   "metadata": {},
   "source": [
    "SCATTERPLOT WITH TREND OVERLAID"
   ]
  },
  {
   "cell_type": "code",
   "execution_count": 48,
   "id": "39ce9aa1-c7f8-41cf-a123-2a1b55ba453a",
   "metadata": {},
   "outputs": [
    {
     "data": {
      "text/plain": [
       "<Axes: xlabel='Year', ylabel='GDP_Per_Capita'>"
      ]
     },
     "execution_count": 48,
     "metadata": {},
     "output_type": "execute_result"
    },
    {
     "data": {
      "image/png": "[encoded data removed]",
      "text/plain": [
       "<Figure size 640x480 with 1 Axes>"
      ]
     },
     "metadata": {},
     "output_type": "display_data"
    }
   ],
   "source": [
    "sns.regplot(\n",
    "    x=gdp_decades[\"Year\"], \n",
    "    y=gdp_decades[\"GDP_Per_Capita\"],\n",
    "    line_kws={\"color\": \"red\", \"linewidth\": 1.5}, \n",
    ")"
   ]
  },
  {
   "cell_type": "markdown",
   "id": "bdf30d86-48bc-4537-ba5c-34919d846da8",
   "metadata": {},
   "source": [
    "## 11. Which country was the first to have a GDP per capita greater than $100,000? (UAE, Brunei)"
   ]
  },
  {
   "cell_type": "code",
   "execution_count": 50,
   "id": "c29c75ea-f66e-40ed-b3ff-4b8c045f21e5",
   "metadata": {},
   "outputs": [],
   "source": [
    "gdp_greater_100k = gdp_new[gdp_new['GDP_Per_Capita']>100000]"
   ]
  },
  {
   "cell_type": "code",
   "execution_count": 51,
   "id": "856a3d5d-8406-4d29-93e7-95f785588a05",
   "metadata": {},
   "outputs": [
    {
     "name": "stdout",
     "output_type": "stream",
     "text": [
      "                   Country  Year  GDP_Per_Capita\n",
      "750                Bermuda  2011   101174.504104\n",
      "751                Bermuda  2010   105121.639689\n",
      "752                Bermuda  2009   108091.644563\n",
      "753                Bermuda  2008   115015.749469\n",
      "754                Bermuda  2007   117742.118950\n",
      "...                    ...   ...             ...\n",
      "7821  United Arab Emirates  1996   100563.698291\n",
      "7822  United Arab Emirates  1995   101412.082063\n",
      "7825  United Arab Emirates  1992   101100.487512\n",
      "7826  United Arab Emirates  1991   103098.537132\n",
      "7827  United Arab Emirates  1990   108057.042464\n",
      "\n",
      "[106 rows x 3 columns]\n"
     ]
    }
   ],
   "source": [
    "gdp_greater_100k.sort_values(by='Year', ascending = True)\n",
    "print(gdp_greater_100k)"
   ]
  },
  {
   "cell_type": "code",
   "execution_count": 52,
   "id": "a93142c0-4bb6-4fa6-ac4e-485fa7bc1e56",
   "metadata": {},
   "outputs": [
    {
     "data": {
      "text/html": [
       "<div>\n",
       "<style scoped>\n",
       "    .dataframe tbody tr th:only-of-type {\n",
       "        vertical-align: middle;\n",
       "    }\n",
       "\n",
       "    .dataframe tbody tr th {\n",
       "        vertical-align: top;\n",
       "    }\n",
       "\n",
       "    .dataframe thead th {\n",
       "        text-align: right;\n",
       "    }\n",
       "</style>\n",
       "<table border=\"1\" class=\"dataframe\">\n",
       "  <thead>\n",
       "    <tr style=\"text-align: right;\">\n",
       "      <th></th>\n",
       "      <th>Country</th>\n",
       "      <th>Year</th>\n",
       "      <th>GDP_Per_Capita</th>\n",
       "    </tr>\n",
       "  </thead>\n",
       "  <tbody>\n",
       "    <tr>\n",
       "      <th>7827</th>\n",
       "      <td>United Arab Emirates</td>\n",
       "      <td>1990</td>\n",
       "      <td>108057.042464</td>\n",
       "    </tr>\n",
       "    <tr>\n",
       "      <th>974</th>\n",
       "      <td>Brunei</td>\n",
       "      <td>1990</td>\n",
       "      <td>118163.683198</td>\n",
       "    </tr>\n",
       "    <tr>\n",
       "      <th>7826</th>\n",
       "      <td>United Arab Emirates</td>\n",
       "      <td>1991</td>\n",
       "      <td>103098.537132</td>\n",
       "    </tr>\n",
       "    <tr>\n",
       "      <th>973</th>\n",
       "      <td>Brunei</td>\n",
       "      <td>1991</td>\n",
       "      <td>118220.683619</td>\n",
       "    </tr>\n",
       "    <tr>\n",
       "      <th>7825</th>\n",
       "      <td>United Arab Emirates</td>\n",
       "      <td>1992</td>\n",
       "      <td>101100.487512</td>\n",
       "    </tr>\n",
       "    <tr>\n",
       "      <th>...</th>\n",
       "      <td>...</td>\n",
       "      <td>...</td>\n",
       "      <td>...</td>\n",
       "    </tr>\n",
       "    <tr>\n",
       "      <th>6116</th>\n",
       "      <td>Qatar</td>\n",
       "      <td>2023</td>\n",
       "      <td>116159.142559</td>\n",
       "    </tr>\n",
       "    <tr>\n",
       "      <th>4457</th>\n",
       "      <td>Macao SAR, China</td>\n",
       "      <td>2023</td>\n",
       "      <td>104961.643485</td>\n",
       "    </tr>\n",
       "    <tr>\n",
       "      <th>6511</th>\n",
       "      <td>Singapore</td>\n",
       "      <td>2023</td>\n",
       "      <td>127543.554752</td>\n",
       "    </tr>\n",
       "    <tr>\n",
       "      <th>4423</th>\n",
       "      <td>Luxembourg</td>\n",
       "      <td>2023</td>\n",
       "      <td>130373.477942</td>\n",
       "    </tr>\n",
       "    <tr>\n",
       "      <th>3490</th>\n",
       "      <td>Ireland</td>\n",
       "      <td>2023</td>\n",
       "      <td>115401.125283</td>\n",
       "    </tr>\n",
       "  </tbody>\n",
       "</table>\n",
       "<p>106 rows × 3 columns</p>\n",
       "</div>"
      ],
      "text/plain": [
       "                   Country  Year  GDP_Per_Capita\n",
       "7827  United Arab Emirates  1990   108057.042464\n",
       "974                 Brunei  1990   118163.683198\n",
       "7826  United Arab Emirates  1991   103098.537132\n",
       "973                 Brunei  1991   118220.683619\n",
       "7825  United Arab Emirates  1992   101100.487512\n",
       "...                    ...   ...             ...\n",
       "6116                 Qatar  2023   116159.142559\n",
       "4457      Macao SAR, China  2023   104961.643485\n",
       "6511             Singapore  2023   127543.554752\n",
       "4423            Luxembourg  2023   130373.477942\n",
       "3490               Ireland  2023   115401.125283\n",
       "\n",
       "[106 rows x 3 columns]"
      ]
     },
     "execution_count": 52,
     "metadata": {},
     "output_type": "execute_result"
    }
   ],
   "source": [
    "gdp_new[gdp_new['GDP_Per_Capita']>100000].sort_values(by= 'Year', ascending = True)"
   ]
  },
  {
   "cell_type": "markdown",
   "id": "5795c770-b2b7-4357-8f49-33e0f635170c",
   "metadata": {},
   "source": [
    "## 12. Which country had the highest GDP per capita in 2020? (Luxembourg) Create a plot showing how this country's GDP per capita has changed over the timespan of the dataset."
   ]
  },
  {
   "cell_type": "code",
   "execution_count": 54,
   "id": "dbe58f04-0162-44b9-95d7-c9ea608215be",
   "metadata": {},
   "outputs": [
    {
     "data": {
      "text/html": [
       "<div>\n",
       "<style scoped>\n",
       "    .dataframe tbody tr th:only-of-type {\n",
       "        vertical-align: middle;\n",
       "    }\n",
       "\n",
       "    .dataframe tbody tr th {\n",
       "        vertical-align: top;\n",
       "    }\n",
       "\n",
       "    .dataframe thead th {\n",
       "        text-align: right;\n",
       "    }\n",
       "</style>\n",
       "<table border=\"1\" class=\"dataframe\">\n",
       "  <thead>\n",
       "    <tr style=\"text-align: right;\">\n",
       "      <th></th>\n",
       "      <th>Country</th>\n",
       "      <th>Year</th>\n",
       "      <th>GDP_Per_Capita</th>\n",
       "    </tr>\n",
       "  </thead>\n",
       "  <tbody>\n",
       "    <tr>\n",
       "      <th>4426</th>\n",
       "      <td>Luxembourg</td>\n",
       "      <td>2020</td>\n",
       "      <td>128256.560341</td>\n",
       "    </tr>\n",
       "    <tr>\n",
       "      <th>6514</th>\n",
       "      <td>Singapore</td>\n",
       "      <td>2020</td>\n",
       "      <td>115304.149459</td>\n",
       "    </tr>\n",
       "    <tr>\n",
       "      <th>6119</th>\n",
       "      <td>Qatar</td>\n",
       "      <td>2020</td>\n",
       "      <td>103061.913414</td>\n",
       "    </tr>\n",
       "    <tr>\n",
       "      <th>3493</th>\n",
       "      <td>Ireland</td>\n",
       "      <td>2020</td>\n",
       "      <td>102989.787335</td>\n",
       "    </tr>\n",
       "    <tr>\n",
       "      <th>741</th>\n",
       "      <td>Bermuda</td>\n",
       "      <td>2020</td>\n",
       "      <td>87894.401174</td>\n",
       "    </tr>\n",
       "    <tr>\n",
       "      <th>...</th>\n",
       "      <td>...</td>\n",
       "      <td>...</td>\n",
       "      <td>...</td>\n",
       "    </tr>\n",
       "    <tr>\n",
       "      <th>5133</th>\n",
       "      <td>Mozambique</td>\n",
       "      <td>2020</td>\n",
       "      <td>1466.124765</td>\n",
       "    </tr>\n",
       "    <tr>\n",
       "      <th>6699</th>\n",
       "      <td>Somalia</td>\n",
       "      <td>2020</td>\n",
       "      <td>1396.053436</td>\n",
       "    </tr>\n",
       "    <tr>\n",
       "      <th>1734</th>\n",
       "      <td>Dem. Rep. Congo</td>\n",
       "      <td>2020</td>\n",
       "      <td>1277.632863</td>\n",
       "    </tr>\n",
       "    <tr>\n",
       "      <th>1302</th>\n",
       "      <td>Central African Republic</td>\n",
       "      <td>2020</td>\n",
       "      <td>1136.570530</td>\n",
       "    </tr>\n",
       "    <tr>\n",
       "      <th>1046</th>\n",
       "      <td>Burundi</td>\n",
       "      <td>2020</td>\n",
       "      <td>833.920257</td>\n",
       "    </tr>\n",
       "  </tbody>\n",
       "</table>\n",
       "<p>247 rows × 3 columns</p>\n",
       "</div>"
      ],
      "text/plain": [
       "                       Country  Year  GDP_Per_Capita\n",
       "4426                Luxembourg  2020   128256.560341\n",
       "6514                 Singapore  2020   115304.149459\n",
       "6119                     Qatar  2020   103061.913414\n",
       "3493                   Ireland  2020   102989.787335\n",
       "741                    Bermuda  2020    87894.401174\n",
       "...                        ...   ...             ...\n",
       "5133                Mozambique  2020     1466.124765\n",
       "6699                   Somalia  2020     1396.053436\n",
       "1734           Dem. Rep. Congo  2020     1277.632863\n",
       "1302  Central African Republic  2020     1136.570530\n",
       "1046                   Burundi  2020      833.920257\n",
       "\n",
       "[247 rows x 3 columns]"
      ]
     },
     "execution_count": 54,
     "metadata": {},
     "output_type": "execute_result"
    }
   ],
   "source": [
    "gdp_new[gdp_new['Year']==2020].sort_values(by= 'GDP_Per_Capita', ascending = False)"
   ]
  },
  {
   "cell_type": "code",
   "execution_count": 55,
   "id": "4f248747-9f19-4685-a7e5-8b02b1d5b4d0",
   "metadata": {},
   "outputs": [],
   "source": [
    "lux = gdp_new[gdp_new[\"Country\"] =='Luxembourg']"
   ]
  },
  {
   "cell_type": "code",
   "execution_count": 56,
   "id": "c4bb1041-5def-45e5-b8d1-90d6bafb4f50",
   "metadata": {},
   "outputs": [
    {
     "name": "stdout",
     "output_type": "stream",
     "text": [
      "         Country  Year  GDP_Per_Capita\n",
      "4423  Luxembourg  2023   130373.477942\n",
      "4424  Luxembourg  2022   134507.667531\n",
      "4425  Luxembourg  2021   135379.291201\n",
      "4426  Luxembourg  2020   128256.560341\n",
      "4427  Luxembourg  2019   131609.099616\n",
      "4428  Luxembourg  2018   130415.193065\n",
      "4429  Luxembourg  2017   131353.485059\n",
      "4430  Luxembourg  2016   132836.085831\n",
      "4431  Luxembourg  2015   129293.707435\n",
      "4432  Luxembourg  2014   129443.183641\n",
      "4433  Luxembourg  2013   129142.843309\n",
      "4434  Luxembourg  2012   128099.279571\n",
      "4435  Luxembourg  2011   129083.129771\n",
      "4436  Luxembourg  2010   130620.266278\n",
      "4437  Luxembourg  2009   128205.455863\n",
      "4438  Luxembourg  2008   134973.375929\n",
      "4439  Luxembourg  2007   137821.419596\n",
      "4440  Luxembourg  2006   129480.260595\n",
      "4441  Luxembourg  2005   124095.617345\n",
      "4442  Luxembourg  2004   122956.102288\n",
      "4443  Luxembourg  2003   119652.627050\n",
      "4444  Luxembourg  2002   118024.021417\n",
      "4445  Luxembourg  2001   115540.354519\n",
      "4446  Luxembourg  2000   113436.588273\n",
      "4447  Luxembourg  1999   107512.224551\n",
      "4448  Luxembourg  1998   100738.594873\n",
      "4449  Luxembourg  1997    95617.478227\n",
      "4450  Luxembourg  1996    91845.705109\n",
      "4451  Luxembourg  1995    91820.682744\n",
      "4452  Luxembourg  1994    91804.800586\n",
      "4453  Luxembourg  1993    89638.568901\n",
      "4454  Luxembourg  1992    87187.534357\n",
      "4455  Luxembourg  1991    86774.421292\n",
      "4456  Luxembourg  1990    80947.492013\n"
     ]
    }
   ],
   "source": [
    "print(lux)"
   ]
  },
  {
   "cell_type": "code",
   "execution_count": 57,
   "id": "f3ce4d37-5f55-4fb3-9ce2-ab954e05af7a",
   "metadata": {},
   "outputs": [
    {
     "data": {
      "text/plain": [
       "Text(0, 0.5, 'GDP per Capita')"
      ]
     },
     "execution_count": 57,
     "metadata": {},
     "output_type": "execute_result"
    },
    {
     "data": {
      "image/png": "[encoded data removed]",
      "text/plain": [
       "<Figure size 640x480 with 1 Axes>"
      ]
     },
     "metadata": {},
     "output_type": "display_data"
    }
   ],
   "source": [
    "plt.plot(lux['Year'], lux['GDP_Per_Capita'])\n",
    "plt.title('Luxembourg GDP Over Time')\n",
    "plt.xlabel('Year')\n",
    "plt.ylabel('GDP per Capita')"
   ]
  },
  {
   "cell_type": "markdown",
   "id": "7c2b84fd-a7d0-44de-914c-8b979e4ae4d8",
   "metadata": {},
   "source": [
    "## 13. Which country had the lowest GDP per capita in 2020? (Burundi) Create a plot showing how this country's GDP per capita has changed over the timespan of the dataset."
   ]
  },
  {
   "cell_type": "code",
   "execution_count": 59,
   "id": "7a841ae4-3e24-4806-ad8c-cba49581178c",
   "metadata": {},
   "outputs": [
    {
     "data": {
      "text/html": [
       "<div>\n",
       "<style scoped>\n",
       "    .dataframe tbody tr th:only-of-type {\n",
       "        vertical-align: middle;\n",
       "    }\n",
       "\n",
       "    .dataframe tbody tr th {\n",
       "        vertical-align: top;\n",
       "    }\n",
       "\n",
       "    .dataframe thead th {\n",
       "        text-align: right;\n",
       "    }\n",
       "</style>\n",
       "<table border=\"1\" class=\"dataframe\">\n",
       "  <thead>\n",
       "    <tr style=\"text-align: right;\">\n",
       "      <th></th>\n",
       "      <th>Country</th>\n",
       "      <th>Year</th>\n",
       "      <th>GDP_Per_Capita</th>\n",
       "    </tr>\n",
       "  </thead>\n",
       "  <tbody>\n",
       "    <tr>\n",
       "      <th>1046</th>\n",
       "      <td>Burundi</td>\n",
       "      <td>2020</td>\n",
       "      <td>833.920257</td>\n",
       "    </tr>\n",
       "    <tr>\n",
       "      <th>1302</th>\n",
       "      <td>Central African Republic</td>\n",
       "      <td>2020</td>\n",
       "      <td>1136.570530</td>\n",
       "    </tr>\n",
       "    <tr>\n",
       "      <th>1734</th>\n",
       "      <td>Dem. Rep. Congo</td>\n",
       "      <td>2020</td>\n",
       "      <td>1277.632863</td>\n",
       "    </tr>\n",
       "    <tr>\n",
       "      <th>6699</th>\n",
       "      <td>Somalia</td>\n",
       "      <td>2020</td>\n",
       "      <td>1396.053436</td>\n",
       "    </tr>\n",
       "    <tr>\n",
       "      <th>5133</th>\n",
       "      <td>Mozambique</td>\n",
       "      <td>2020</td>\n",
       "      <td>1466.124765</td>\n",
       "    </tr>\n",
       "    <tr>\n",
       "      <th>...</th>\n",
       "      <td>...</td>\n",
       "      <td>...</td>\n",
       "      <td>...</td>\n",
       "    </tr>\n",
       "    <tr>\n",
       "      <th>741</th>\n",
       "      <td>Bermuda</td>\n",
       "      <td>2020</td>\n",
       "      <td>87894.401174</td>\n",
       "    </tr>\n",
       "    <tr>\n",
       "      <th>3493</th>\n",
       "      <td>Ireland</td>\n",
       "      <td>2020</td>\n",
       "      <td>102989.787335</td>\n",
       "    </tr>\n",
       "    <tr>\n",
       "      <th>6119</th>\n",
       "      <td>Qatar</td>\n",
       "      <td>2020</td>\n",
       "      <td>103061.913414</td>\n",
       "    </tr>\n",
       "    <tr>\n",
       "      <th>6514</th>\n",
       "      <td>Singapore</td>\n",
       "      <td>2020</td>\n",
       "      <td>115304.149459</td>\n",
       "    </tr>\n",
       "    <tr>\n",
       "      <th>4426</th>\n",
       "      <td>Luxembourg</td>\n",
       "      <td>2020</td>\n",
       "      <td>128256.560341</td>\n",
       "    </tr>\n",
       "  </tbody>\n",
       "</table>\n",
       "<p>247 rows × 3 columns</p>\n",
       "</div>"
      ],
      "text/plain": [
       "                       Country  Year  GDP_Per_Capita\n",
       "1046                   Burundi  2020      833.920257\n",
       "1302  Central African Republic  2020     1136.570530\n",
       "1734           Dem. Rep. Congo  2020     1277.632863\n",
       "6699                   Somalia  2020     1396.053436\n",
       "5133                Mozambique  2020     1466.124765\n",
       "...                        ...   ...             ...\n",
       "741                    Bermuda  2020    87894.401174\n",
       "3493                   Ireland  2020   102989.787335\n",
       "6119                     Qatar  2020   103061.913414\n",
       "6514                 Singapore  2020   115304.149459\n",
       "4426                Luxembourg  2020   128256.560341\n",
       "\n",
       "[247 rows x 3 columns]"
      ]
     },
     "execution_count": 59,
     "metadata": {},
     "output_type": "execute_result"
    }
   ],
   "source": [
    "gdp_new[gdp_new['Year']==2020].sort_values(by= 'GDP_Per_Capita', ascending = True)"
   ]
  },
  {
   "cell_type": "code",
   "execution_count": 60,
   "id": "3be265db-132b-4703-913f-aedc1161c752",
   "metadata": {},
   "outputs": [
    {
     "name": "stdout",
     "output_type": "stream",
     "text": [
      "      Country  Year  GDP_Per_Capita\n",
      "1043  Burundi  2023      828.861074\n",
      "1044  Burundi  2022      829.387160\n",
      "1045  Burundi  2021      836.665571\n",
      "1046  Burundi  2020      833.920257\n",
      "1047  Burundi  2019      855.732720\n",
      "1048  Burundi  2018      868.555508\n",
      "1049  Burundi  2017      880.993440\n",
      "1050  Burundi  2016      897.459046\n",
      "1051  Burundi  2015      918.557193\n",
      "1052  Burundi  2014      977.765840\n",
      "1053  Burundi  2013      970.375392\n",
      "1054  Burundi  2012      958.657403\n",
      "1055  Burundi  2011      951.188460\n",
      "1056  Burundi  2010      947.621417\n",
      "1057  Burundi  2009      944.629926\n",
      "1058  Burundi  2008      957.222664\n",
      "1059  Burundi  2007      951.290083\n",
      "1060  Burundi  2006      954.190854\n",
      "1061  Burundi  2005      938.381597\n",
      "1062  Burundi  2004      965.204118\n",
      "1063  Burundi  2003      955.669204\n",
      "1064  Burundi  2002      998.561289\n",
      "1065  Burundi  2001      983.396847\n",
      "1066  Burundi  2000      988.036863\n",
      "1067  Burundi  1999     1017.497778\n",
      "1068  Burundi  1998     1052.807034\n",
      "1069  Burundi  1997     1024.449954\n",
      "1070  Burundi  1996     1040.922315\n",
      "1071  Burundi  1995     1132.218782\n",
      "1072  Burundi  1994     1305.452080\n",
      "1073  Burundi  1993     1366.292153\n",
      "1074  Burundi  1992     1412.060546\n",
      "1075  Burundi  1991     1435.819561\n",
      "1076  Burundi  1990     1396.077627\n"
     ]
    }
   ],
   "source": [
    "bur = gdp_new[gdp_new[\"Country\"] =='Burundi']\n",
    "print(bur)"
   ]
  },
  {
   "cell_type": "code",
   "execution_count": 61,
   "id": "7453ab99-54c5-4642-a102-37cf1c30a921",
   "metadata": {},
   "outputs": [
    {
     "data": {
      "text/plain": [
       "Text(0, 0.5, 'GDP per Capita')"
      ]
     },
     "execution_count": 61,
     "metadata": {},
     "output_type": "execute_result"
    },
    {
     "data": {
      "image/png": "[encoded data removed]",
      "text/plain": [
       "<Figure size 640x480 with 1 Axes>"
      ]
     },
     "metadata": {},
     "output_type": "display_data"
    }
   ],
   "source": [
    "plt.plot(bur['Year'], bur['GDP_Per_Capita'])\n",
    "plt.title('Burundi GDP Over Time')\n",
    "plt.xlabel('Year')\n",
    "plt.ylabel('GDP per Capita')"
   ]
  },
  {
   "cell_type": "markdown",
   "id": "b2671417-6bea-4eda-9ea7-0cddc14cc415",
   "metadata": {},
   "source": [
    "## Bonus question: Is it true in general that coutries had a higher GDP per capita in 2020 than in 1990? Which countries had lower GDP per capita in 2020 than in 1990?"
   ]
  },
  {
   "cell_type": "code",
   "execution_count": 63,
   "id": "c6d0f591-a5d0-4c91-a6ad-bc2a9395212a",
   "metadata": {},
   "outputs": [
    {
     "data": {
      "text/plain": [
       "23044.942555569738"
      ]
     },
     "execution_count": 63,
     "metadata": {},
     "output_type": "execute_result"
    }
   ],
   "source": [
    "gdp_2020['GDP_Per_Capita'].mean()"
   ]
  },
  {
   "cell_type": "code",
   "execution_count": 64,
   "id": "d42be5dd-de8f-475f-9b6f-1d6c1d20284e",
   "metadata": {},
   "outputs": [
    {
     "data": {
      "text/plain": [
       "count       247.000000\n",
       "mean      23044.942556\n",
       "std       22856.889868\n",
       "min         833.920257\n",
       "25%        5857.324918\n",
       "50%       15309.235988\n",
       "75%       34823.614188\n",
       "max      128256.560341\n",
       "Name: GDP_Per_Capita, dtype: float64"
      ]
     },
     "execution_count": 64,
     "metadata": {},
     "output_type": "execute_result"
    }
   ],
   "source": [
    "gdp_2020['GDP_Per_Capita'].describe()"
   ]
  },
  {
   "cell_type": "code",
   "execution_count": 65,
   "id": "5eb5915f-411e-4c69-91a6-b4d318c46faa",
   "metadata": {},
   "outputs": [],
   "source": [
    "gdp_1990 = gdp_new[gdp_new['Year']==1990]"
   ]
  },
  {
   "cell_type": "code",
   "execution_count": 66,
   "id": "93c9023e-76dd-4d55-8158-59f82ed30d95",
   "metadata": {},
   "outputs": [
    {
     "data": {
      "text/plain": [
       "count       233.000000\n",
       "mean      15378.121745\n",
       "std       18030.094552\n",
       "min         547.622781\n",
       "25%        3346.541876\n",
       "50%        8243.732655\n",
       "75%       19417.220483\n",
       "max      118163.683198\n",
       "Name: GDP_Per_Capita, dtype: float64"
      ]
     },
     "execution_count": 66,
     "metadata": {},
     "output_type": "execute_result"
    }
   ],
   "source": [
    "gdp_1990['GDP_Per_Capita'].describe()"
   ]
  },
  {
   "cell_type": "markdown",
   "id": "85093d69-63a1-4620-a615-98e35010a4b5",
   "metadata": {},
   "source": [
    "## Higher mean in 2020, higher count in 2020, larger std in 2020, larger max in 2020"
   ]
  },
  {
   "cell_type": "code",
   "execution_count": 68,
   "id": "8eac9d5e-ca57-4397-8a55-58029e1c9992",
   "metadata": {},
   "outputs": [],
   "source": [
    "gdp_1990_2020 = gdp_new[gdp_new['Year'].isin([1990, 2020])]"
   ]
  },
  {
   "cell_type": "code",
   "execution_count": 69,
   "id": "8620e232-96d7-4c9b-a8fe-82cb1ede2e66",
   "metadata": {},
   "outputs": [
    {
     "data": {
      "text/html": [
       "<div>\n",
       "<style scoped>\n",
       "    .dataframe tbody tr th:only-of-type {\n",
       "        vertical-align: middle;\n",
       "    }\n",
       "\n",
       "    .dataframe tbody tr th {\n",
       "        vertical-align: top;\n",
       "    }\n",
       "\n",
       "    .dataframe thead th {\n",
       "        text-align: right;\n",
       "    }\n",
       "</style>\n",
       "<table border=\"1\" class=\"dataframe\">\n",
       "  <thead>\n",
       "    <tr style=\"text-align: right;\">\n",
       "      <th></th>\n",
       "      <th>Country</th>\n",
       "      <th>Year</th>\n",
       "      <th>GDP_Per_Capita</th>\n",
       "    </tr>\n",
       "  </thead>\n",
       "  <tbody>\n",
       "    <tr>\n",
       "      <th>3</th>\n",
       "      <td>Afghanistan</td>\n",
       "      <td>2020</td>\n",
       "      <td>2769.685745</td>\n",
       "    </tr>\n",
       "    <tr>\n",
       "      <th>27</th>\n",
       "      <td>Africa Eastern and Southern</td>\n",
       "      <td>2020</td>\n",
       "      <td>3861.111238</td>\n",
       "    </tr>\n",
       "    <tr>\n",
       "      <th>57</th>\n",
       "      <td>Africa Eastern and Southern</td>\n",
       "      <td>1990</td>\n",
       "      <td>3386.854480</td>\n",
       "    </tr>\n",
       "    <tr>\n",
       "      <th>61</th>\n",
       "      <td>Africa Western and Central</td>\n",
       "      <td>2020</td>\n",
       "      <td>4622.731427</td>\n",
       "    </tr>\n",
       "    <tr>\n",
       "      <th>91</th>\n",
       "      <td>Africa Western and Central</td>\n",
       "      <td>1990</td>\n",
       "      <td>3299.401375</td>\n",
       "    </tr>\n",
       "  </tbody>\n",
       "</table>\n",
       "</div>"
      ],
      "text/plain": [
       "                        Country  Year  GDP_Per_Capita\n",
       "3                   Afghanistan  2020     2769.685745\n",
       "27  Africa Eastern and Southern  2020     3861.111238\n",
       "57  Africa Eastern and Southern  1990     3386.854480\n",
       "61   Africa Western and Central  2020     4622.731427\n",
       "91   Africa Western and Central  1990     3299.401375"
      ]
     },
     "execution_count": 69,
     "metadata": {},
     "output_type": "execute_result"
    }
   ],
   "source": [
    "gdp_1990_2020.head()"
   ]
  },
  {
   "cell_type": "code",
   "execution_count": 70,
   "id": "a64f47fc-f754-4185-9b19-88720d32f24c",
   "metadata": {},
   "outputs": [],
   "source": [
    "pivoted = gdp_1990_2020.pivot(index='Country', columns='Year', values='GDP_Per_Capita')"
   ]
  },
  {
   "cell_type": "code",
   "execution_count": 71,
   "id": "d5a77f67-afa3-4bc6-93b9-936656578432",
   "metadata": {},
   "outputs": [],
   "source": [
    "pivoted.columns = ['gdp_1990', 'gdp_2020']"
   ]
  },
  {
   "cell_type": "code",
   "execution_count": 72,
   "id": "6eff76c3-b26e-460e-96f7-7d44f1206e5a",
   "metadata": {},
   "outputs": [],
   "source": [
    "lower_gdp_countries = pivoted[pivoted['gdp_2020'] < pivoted['gdp_1990']]"
   ]
  },
  {
   "cell_type": "code",
   "execution_count": 73,
   "id": "35bce7ac-2439-4d00-9f68-07cbecfcf46b",
   "metadata": {},
   "outputs": [
    {
     "name": "stdout",
     "output_type": "stream",
     "text": [
      "                                               gdp_1990      gdp_2020\n",
      "Country                                                              \n",
      "Aruba                                      34579.220640  28521.688852\n",
      "Barbados                                   16976.761648  15749.038017\n",
      "Brunei                                    118163.683198  80280.897948\n",
      "Burundi                                     1396.077627    833.920257\n",
      "Central African Republic                    1481.252551   1136.570530\n",
      "Congo                                       8699.526839   6350.509134\n",
      "Dem. Rep. Congo                             2172.001597   1277.632863\n",
      "Fragile and conflict affected situations    6062.707946   5271.014406\n",
      "Gabon                                      23884.810700  18681.484074\n",
      "Haiti                                       3946.365646   3229.475544\n",
      "Kyrgyz Republic                             6095.681086   5537.795885\n",
      "Liberia                                     1866.405481   1497.376924\n",
      "Libya                                      18121.815655   9976.037403\n",
      "Madagascar                                  1975.146568   1551.125580\n",
      "Moldova                                    15902.894323  13559.260022\n",
      "Nauru                                      30546.301797  11441.258450\n",
      "Saudi Arabia                               60101.575626  51782.568653\n",
      "St. Lucia                                  17222.000972  17141.938071\n",
      "Syrian Arab Republic                        5828.405516   4633.349518\n",
      "Tajikistan                                  4173.046080   3724.748959\n",
      "The Bahamas                                33062.545904  25457.080388\n",
      "Ukraine                                    22815.798828  17092.539062\n",
      "United Arab Emirates                      108057.042464  65784.676939\n",
      "Zimbabwe                                    4013.299059   2987.269823\n"
     ]
    }
   ],
   "source": [
    "print(lower_gdp_countries)"
   ]
  },
  {
   "cell_type": "markdown",
   "id": "5ec7a36b-c426-472c-86d4-da6596309afd",
   "metadata": {},
   "source": [
    "## 14. Read in the internet use dataset into a DataFrame named internet_df. You will likely get errors when doing this. Check the arguments for the read_csv function to find ones that can help correct the errors (https://pandas.pydata.org/docs/reference/api/pandas.read_csv.html) Once you are able to read it in, take per a look at the top and bottom few rows to make sure that it has been read in correctly. Also, check the datatypes of the columns."
   ]
  },
  {
   "cell_type": "code",
   "execution_count": 75,
   "id": "81a26550-2daa-4461-a708-71e97cf876fb",
   "metadata": {},
   "outputs": [],
   "source": [
    "import pandas as pd"
   ]
  },
  {
   "cell_type": "code",
   "execution_count": 76,
   "id": "58fb7336-ac47-45c5-b2b7-a67a1f0ce3c6",
   "metadata": {},
   "outputs": [],
   "source": [
    "internet_df = pd.read_csv('../data/internet_use.csv', engine= 'python', on_bad_lines = 'skip', skipfooter=299)"
   ]
  },
  {
   "cell_type": "code",
   "execution_count": 77,
   "id": "6210a52c-0918-47d0-91b9-8beb6aa763cb",
   "metadata": {},
   "outputs": [
    {
     "data": {
      "text/html": [
       "<div>\n",
       "<style scoped>\n",
       "    .dataframe tbody tr th:only-of-type {\n",
       "        vertical-align: middle;\n",
       "    }\n",
       "\n",
       "    .dataframe tbody tr th {\n",
       "        vertical-align: top;\n",
       "    }\n",
       "\n",
       "    .dataframe thead th {\n",
       "        text-align: right;\n",
       "    }\n",
       "</style>\n",
       "<table border=\"1\" class=\"dataframe\">\n",
       "  <thead>\n",
       "    <tr style=\"text-align: right;\">\n",
       "      <th></th>\n",
       "      <th>Country or Area</th>\n",
       "      <th>Year</th>\n",
       "      <th>Value</th>\n",
       "      <th>Value Footnotes</th>\n",
       "    </tr>\n",
       "  </thead>\n",
       "  <tbody>\n",
       "    <tr>\n",
       "      <th>0</th>\n",
       "      <td>Afghanistan</td>\n",
       "      <td>2019</td>\n",
       "      <td>17.60</td>\n",
       "      <td>1</td>\n",
       "    </tr>\n",
       "    <tr>\n",
       "      <th>1</th>\n",
       "      <td>Afghanistan</td>\n",
       "      <td>2018</td>\n",
       "      <td>16.80</td>\n",
       "      <td>2</td>\n",
       "    </tr>\n",
       "    <tr>\n",
       "      <th>2</th>\n",
       "      <td>Afghanistan</td>\n",
       "      <td>2017</td>\n",
       "      <td>13.50</td>\n",
       "      <td>3</td>\n",
       "    </tr>\n",
       "    <tr>\n",
       "      <th>3</th>\n",
       "      <td>Afghanistan</td>\n",
       "      <td>2016</td>\n",
       "      <td>11.00</td>\n",
       "      <td>4</td>\n",
       "    </tr>\n",
       "    <tr>\n",
       "      <th>4</th>\n",
       "      <td>Afghanistan</td>\n",
       "      <td>2015</td>\n",
       "      <td>8.26</td>\n",
       "      <td>4</td>\n",
       "    </tr>\n",
       "  </tbody>\n",
       "</table>\n",
       "</div>"
      ],
      "text/plain": [
       "  Country or Area  Year  Value Value Footnotes\n",
       "0     Afghanistan  2019  17.60               1\n",
       "1     Afghanistan  2018  16.80               2\n",
       "2     Afghanistan  2017  13.50               3\n",
       "3     Afghanistan  2016  11.00               4\n",
       "4     Afghanistan  2015   8.26               4"
      ]
     },
     "execution_count": 77,
     "metadata": {},
     "output_type": "execute_result"
    }
   ],
   "source": [
    "internet_df.head()"
   ]
  },
  {
   "cell_type": "markdown",
   "id": "5acfcc8c-998f-4d02-95c1-bb90bca8083d",
   "metadata": {},
   "source": [
    "## 15. Drop the Value Footnotes column and rename the remaining three to 'Country', 'Year', and 'Internet_Users_Pct'."
   ]
  },
  {
   "cell_type": "code",
   "execution_count": 79,
   "id": "211b253c-50cd-419a-8187-f666ba08cfdd",
   "metadata": {},
   "outputs": [],
   "source": [
    "internet_df = internet_df.drop('Value Footnotes', axis = 1)"
   ]
  },
  {
   "cell_type": "code",
   "execution_count": 80,
   "id": "948422f7-13fa-4e7e-8e9b-af4f84c4d55e",
   "metadata": {},
   "outputs": [
    {
     "data": {
      "text/html": [
       "<div>\n",
       "<style scoped>\n",
       "    .dataframe tbody tr th:only-of-type {\n",
       "        vertical-align: middle;\n",
       "    }\n",
       "\n",
       "    .dataframe tbody tr th {\n",
       "        vertical-align: top;\n",
       "    }\n",
       "\n",
       "    .dataframe thead th {\n",
       "        text-align: right;\n",
       "    }\n",
       "</style>\n",
       "<table border=\"1\" class=\"dataframe\">\n",
       "  <thead>\n",
       "    <tr style=\"text-align: right;\">\n",
       "      <th></th>\n",
       "      <th>Country or Area</th>\n",
       "      <th>Year</th>\n",
       "      <th>Value</th>\n",
       "    </tr>\n",
       "  </thead>\n",
       "  <tbody>\n",
       "    <tr>\n",
       "      <th>0</th>\n",
       "      <td>Afghanistan</td>\n",
       "      <td>2019</td>\n",
       "      <td>17.60</td>\n",
       "    </tr>\n",
       "    <tr>\n",
       "      <th>1</th>\n",
       "      <td>Afghanistan</td>\n",
       "      <td>2018</td>\n",
       "      <td>16.80</td>\n",
       "    </tr>\n",
       "    <tr>\n",
       "      <th>2</th>\n",
       "      <td>Afghanistan</td>\n",
       "      <td>2017</td>\n",
       "      <td>13.50</td>\n",
       "    </tr>\n",
       "    <tr>\n",
       "      <th>3</th>\n",
       "      <td>Afghanistan</td>\n",
       "      <td>2016</td>\n",
       "      <td>11.00</td>\n",
       "    </tr>\n",
       "    <tr>\n",
       "      <th>4</th>\n",
       "      <td>Afghanistan</td>\n",
       "      <td>2015</td>\n",
       "      <td>8.26</td>\n",
       "    </tr>\n",
       "  </tbody>\n",
       "</table>\n",
       "</div>"
      ],
      "text/plain": [
       "  Country or Area  Year  Value\n",
       "0     Afghanistan  2019  17.60\n",
       "1     Afghanistan  2018  16.80\n",
       "2     Afghanistan  2017  13.50\n",
       "3     Afghanistan  2016  11.00\n",
       "4     Afghanistan  2015   8.26"
      ]
     },
     "execution_count": 80,
     "metadata": {},
     "output_type": "execute_result"
    }
   ],
   "source": [
    "internet_df.head()"
   ]
  },
  {
   "cell_type": "code",
   "execution_count": 81,
   "id": "7e0cff2b-e38f-4845-9177-69996955b68b",
   "metadata": {},
   "outputs": [
    {
     "data": {
      "text/html": [
       "<div>\n",
       "<style scoped>\n",
       "    .dataframe tbody tr th:only-of-type {\n",
       "        vertical-align: middle;\n",
       "    }\n",
       "\n",
       "    .dataframe tbody tr th {\n",
       "        vertical-align: top;\n",
       "    }\n",
       "\n",
       "    .dataframe thead th {\n",
       "        text-align: right;\n",
       "    }\n",
       "</style>\n",
       "<table border=\"1\" class=\"dataframe\">\n",
       "  <thead>\n",
       "    <tr style=\"text-align: right;\">\n",
       "      <th></th>\n",
       "      <th>Country</th>\n",
       "      <th>Year</th>\n",
       "      <th>Internet_Users_Pct</th>\n",
       "    </tr>\n",
       "  </thead>\n",
       "  <tbody>\n",
       "    <tr>\n",
       "      <th>0</th>\n",
       "      <td>Afghanistan</td>\n",
       "      <td>2019</td>\n",
       "      <td>17.60</td>\n",
       "    </tr>\n",
       "    <tr>\n",
       "      <th>1</th>\n",
       "      <td>Afghanistan</td>\n",
       "      <td>2018</td>\n",
       "      <td>16.80</td>\n",
       "    </tr>\n",
       "    <tr>\n",
       "      <th>2</th>\n",
       "      <td>Afghanistan</td>\n",
       "      <td>2017</td>\n",
       "      <td>13.50</td>\n",
       "    </tr>\n",
       "    <tr>\n",
       "      <th>3</th>\n",
       "      <td>Afghanistan</td>\n",
       "      <td>2016</td>\n",
       "      <td>11.00</td>\n",
       "    </tr>\n",
       "    <tr>\n",
       "      <th>4</th>\n",
       "      <td>Afghanistan</td>\n",
       "      <td>2015</td>\n",
       "      <td>8.26</td>\n",
       "    </tr>\n",
       "  </tbody>\n",
       "</table>\n",
       "</div>"
      ],
      "text/plain": [
       "       Country  Year  Internet_Users_Pct\n",
       "0  Afghanistan  2019               17.60\n",
       "1  Afghanistan  2018               16.80\n",
       "2  Afghanistan  2017               13.50\n",
       "3  Afghanistan  2016               11.00\n",
       "4  Afghanistan  2015                8.26"
      ]
     },
     "execution_count": 81,
     "metadata": {},
     "output_type": "execute_result"
    }
   ],
   "source": [
    "internet_df = internet_df.rename(columns={\"Country or Area\": \"Country\", \"Year\": \"Year\", \"Value\": \"Internet_Users_Pct\"})\n",
    "internet_df.head()"
   ]
  },
  {
   "cell_type": "markdown",
   "id": "b6c8bd16-8c20-4b17-8bbe-f01bd4b7bab3",
   "metadata": {},
   "source": [
    "## 16. Look at the number of observations in this dataset per year. What do you notice?"
   ]
  },
  {
   "cell_type": "code",
   "execution_count": 83,
   "id": "5ec7da5b-e934-466b-b662-1ea425b010f3",
   "metadata": {
    "scrolled": true
   },
   "outputs": [
    {
     "data": {
      "text/html": [
       "<div>\n",
       "<style scoped>\n",
       "    .dataframe tbody tr th:only-of-type {\n",
       "        vertical-align: middle;\n",
       "    }\n",
       "\n",
       "    .dataframe tbody tr th {\n",
       "        vertical-align: top;\n",
       "    }\n",
       "\n",
       "    .dataframe thead th {\n",
       "        text-align: right;\n",
       "    }\n",
       "</style>\n",
       "<table border=\"1\" class=\"dataframe\">\n",
       "  <thead>\n",
       "    <tr style=\"text-align: right;\">\n",
       "      <th></th>\n",
       "      <th>Year</th>\n",
       "      <th>Observations</th>\n",
       "    </tr>\n",
       "  </thead>\n",
       "  <tbody>\n",
       "    <tr>\n",
       "      <th>0</th>\n",
       "      <td>1990</td>\n",
       "      <td>225</td>\n",
       "    </tr>\n",
       "    <tr>\n",
       "      <th>1</th>\n",
       "      <td>1991</td>\n",
       "      <td>39</td>\n",
       "    </tr>\n",
       "    <tr>\n",
       "      <th>2</th>\n",
       "      <td>1992</td>\n",
       "      <td>50</td>\n",
       "    </tr>\n",
       "    <tr>\n",
       "      <th>3</th>\n",
       "      <td>1993</td>\n",
       "      <td>66</td>\n",
       "    </tr>\n",
       "    <tr>\n",
       "      <th>4</th>\n",
       "      <td>1994</td>\n",
       "      <td>92</td>\n",
       "    </tr>\n",
       "  </tbody>\n",
       "</table>\n",
       "</div>"
      ],
      "text/plain": [
       "   Year  Observations\n",
       "0  1990           225\n",
       "1  1991            39\n",
       "2  1992            50\n",
       "3  1993            66\n",
       "4  1994            92"
      ]
     },
     "execution_count": 83,
     "metadata": {},
     "output_type": "execute_result"
    }
   ],
   "source": [
    "internet_year_counts = internet_df.groupby('Year')['Country'].count().reset_index()\n",
    "internet_year_counts = internet_year_counts.rename(columns={\"Year\": \"Year\", \"Country\": \"Observations\"})\n",
    "internet_year_counts.head()"
   ]
  },
  {
   "cell_type": "code",
   "execution_count": 84,
   "id": "cbd29932-b7ee-43a8-946c-ba30e72df69e",
   "metadata": {},
   "outputs": [
    {
     "name": "stdout",
     "output_type": "stream",
     "text": [
      "<class 'pandas.core.frame.DataFrame'>\n",
      "RangeIndex: 34 entries, 0 to 33\n",
      "Data columns (total 2 columns):\n",
      " #   Column        Non-Null Count  Dtype\n",
      "---  ------        --------------  -----\n",
      " 0   Year          34 non-null     int64\n",
      " 1   Observations  34 non-null     int64\n",
      "dtypes: int64(2)\n",
      "memory usage: 676.0 bytes\n"
     ]
    }
   ],
   "source": [
    "internet_year_counts.info()"
   ]
  },
  {
   "cell_type": "code",
   "execution_count": 85,
   "id": "36139d9d-dbd9-43e3-9cf0-0c9a8389c06f",
   "metadata": {},
   "outputs": [
    {
     "name": "stdout",
     "output_type": "stream",
     "text": [
      "    Year  Observations\n",
      "0   1990           225\n",
      "1   1991            39\n",
      "2   1992            50\n",
      "3   1993            66\n",
      "4   1994            92\n",
      "5   1995           141\n",
      "6   1996           177\n",
      "7   1997           188\n",
      "8   1998           195\n",
      "9   1999           207\n",
      "10  2000           210\n",
      "11  2001           212\n",
      "12  2002           214\n",
      "13  2003           208\n",
      "14  2004           210\n",
      "15  2005           212\n",
      "16  2006           212\n",
      "17  2007           217\n",
      "18  2008           214\n",
      "19  2009           214\n",
      "20  2010           209\n",
      "21  2011           214\n",
      "22  2012           209\n",
      "23  2013           203\n",
      "24  2014           204\n",
      "25  2015           203\n",
      "26  2016           206\n",
      "27  2017           205\n",
      "28  2018           174\n",
      "29  2019           185\n",
      "30  2020           186\n",
      "31  2021           186\n",
      "32  2022           184\n",
      "33  2023            11\n"
     ]
    }
   ],
   "source": [
    "print(internet_year_counts)"
   ]
  },
  {
   "cell_type": "code",
   "execution_count": 86,
   "id": "d9777aa5-191e-4abe-8f64-cf438db44354",
   "metadata": {},
   "outputs": [
    {
     "data": {
      "text/plain": [
       "225"
      ]
     },
     "execution_count": 86,
     "metadata": {},
     "output_type": "execute_result"
    }
   ],
   "source": [
    "internet_year_counts[\"Observations\"].max()"
   ]
  },
  {
   "cell_type": "code",
   "execution_count": 87,
   "id": "9740c577-62af-4911-aff5-39d769d4053d",
   "metadata": {},
   "outputs": [
    {
     "data": {
      "text/plain": [
       "11"
      ]
     },
     "execution_count": 87,
     "metadata": {},
     "output_type": "execute_result"
    }
   ],
   "source": [
    "internet_year_counts[\"Observations\"].min()"
   ]
  },
  {
   "cell_type": "markdown",
   "id": "75aa953e-351d-48ce-bda2-b5ccd14f899c",
   "metadata": {},
   "source": [
    "Most observations in 1990 (225), and lowest number of observations in 2023 (11). Is the data in 2023 incomplete?"
   ]
  },
  {
   "cell_type": "markdown",
   "id": "528033b6-f5dc-493c-89d2-d23822886079",
   "metadata": {},
   "source": [
    "## 17. What is the first year to have a non-zero internet users percentage value?\n",
    "Answer: 1990 (Denmark, 0.097277)"
   ]
  },
  {
   "cell_type": "code",
   "execution_count": 90,
   "id": "694f0e5d-5ce4-4e86-8d07-f87c569354be",
   "metadata": {},
   "outputs": [
    {
     "data": {
      "text/html": [
       "<div>\n",
       "<style scoped>\n",
       "    .dataframe tbody tr th:only-of-type {\n",
       "        vertical-align: middle;\n",
       "    }\n",
       "\n",
       "    .dataframe tbody tr th {\n",
       "        vertical-align: top;\n",
       "    }\n",
       "\n",
       "    .dataframe thead th {\n",
       "        text-align: right;\n",
       "    }\n",
       "</style>\n",
       "<table border=\"1\" class=\"dataframe\">\n",
       "  <thead>\n",
       "    <tr style=\"text-align: right;\">\n",
       "      <th></th>\n",
       "      <th>Country</th>\n",
       "      <th>Year</th>\n",
       "      <th>Internet_Users_Pct</th>\n",
       "    </tr>\n",
       "  </thead>\n",
       "  <tbody>\n",
       "    <tr>\n",
       "      <th>4893</th>\n",
       "      <td>Seychelles</td>\n",
       "      <td>1990</td>\n",
       "      <td>0.0</td>\n",
       "    </tr>\n",
       "    <tr>\n",
       "      <th>647</th>\n",
       "      <td>Bhutan</td>\n",
       "      <td>1990</td>\n",
       "      <td>0.0</td>\n",
       "    </tr>\n",
       "    <tr>\n",
       "      <th>4003</th>\n",
       "      <td>New Caledonia</td>\n",
       "      <td>1990</td>\n",
       "      <td>0.0</td>\n",
       "    </tr>\n",
       "    <tr>\n",
       "      <th>2129</th>\n",
       "      <td>Gambia</td>\n",
       "      <td>1990</td>\n",
       "      <td>0.0</td>\n",
       "    </tr>\n",
       "    <tr>\n",
       "      <th>5413</th>\n",
       "      <td>Tanzania</td>\n",
       "      <td>1990</td>\n",
       "      <td>0.0</td>\n",
       "    </tr>\n",
       "    <tr>\n",
       "      <th>...</th>\n",
       "      <td>...</td>\n",
       "      <td>...</td>\n",
       "      <td>...</td>\n",
       "    </tr>\n",
       "    <tr>\n",
       "      <th>4790</th>\n",
       "      <td>Saudi Arabia</td>\n",
       "      <td>2022</td>\n",
       "      <td>100.0</td>\n",
       "    </tr>\n",
       "    <tr>\n",
       "      <th>4791</th>\n",
       "      <td>Saudi Arabia</td>\n",
       "      <td>2021</td>\n",
       "      <td>100.0</td>\n",
       "    </tr>\n",
       "    <tr>\n",
       "      <th>5718</th>\n",
       "      <td>United Arab Emirates</td>\n",
       "      <td>2020</td>\n",
       "      <td>100.0</td>\n",
       "    </tr>\n",
       "    <tr>\n",
       "      <th>4497</th>\n",
       "      <td>Qatar</td>\n",
       "      <td>2022</td>\n",
       "      <td>100.0</td>\n",
       "    </tr>\n",
       "    <tr>\n",
       "      <th>399</th>\n",
       "      <td>Bahrain</td>\n",
       "      <td>2021</td>\n",
       "      <td>100.0</td>\n",
       "    </tr>\n",
       "  </tbody>\n",
       "</table>\n",
       "<p>6082 rows × 3 columns</p>\n",
       "</div>"
      ],
      "text/plain": [
       "                   Country  Year  Internet_Users_Pct\n",
       "4893            Seychelles  1990                 0.0\n",
       "647                 Bhutan  1990                 0.0\n",
       "4003         New Caledonia  1990                 0.0\n",
       "2129                Gambia  1990                 0.0\n",
       "5413              Tanzania  1990                 0.0\n",
       "...                    ...   ...                 ...\n",
       "4790          Saudi Arabia  2022               100.0\n",
       "4791          Saudi Arabia  2021               100.0\n",
       "5718  United Arab Emirates  2020               100.0\n",
       "4497                 Qatar  2022               100.0\n",
       "399                Bahrain  2021               100.0\n",
       "\n",
       "[6082 rows x 3 columns]"
      ]
     },
     "execution_count": 90,
     "metadata": {},
     "output_type": "execute_result"
    }
   ],
   "source": [
    "internet_df.sort_values(by='Internet_Users_Pct', ascending = True)"
   ]
  },
  {
   "cell_type": "code",
   "execution_count": 91,
   "id": "0d1f335a-a2e9-4df3-a5ed-b8b9dcc1efbd",
   "metadata": {},
   "outputs": [],
   "source": [
    "pct_not_0 = internet_df[internet_df['Internet_Users_Pct']>0]"
   ]
  },
  {
   "cell_type": "code",
   "execution_count": 92,
   "id": "b6fce2c6-adfb-4e2b-93bf-f20a75b893ec",
   "metadata": {},
   "outputs": [
    {
     "data": {
      "text/html": [
       "<div>\n",
       "<style scoped>\n",
       "    .dataframe tbody tr th:only-of-type {\n",
       "        vertical-align: middle;\n",
       "    }\n",
       "\n",
       "    .dataframe tbody tr th {\n",
       "        vertical-align: top;\n",
       "    }\n",
       "\n",
       "    .dataframe thead th {\n",
       "        text-align: right;\n",
       "    }\n",
       "</style>\n",
       "<table border=\"1\" class=\"dataframe\">\n",
       "  <thead>\n",
       "    <tr style=\"text-align: right;\">\n",
       "      <th></th>\n",
       "      <th>Country</th>\n",
       "      <th>Year</th>\n",
       "      <th>Internet_Users_Pct</th>\n",
       "    </tr>\n",
       "  </thead>\n",
       "  <tbody>\n",
       "    <tr>\n",
       "      <th>1889</th>\n",
       "      <td>Ethiopia</td>\n",
       "      <td>1995</td>\n",
       "      <td>0.000018</td>\n",
       "    </tr>\n",
       "    <tr>\n",
       "      <th>5445</th>\n",
       "      <td>Thailand</td>\n",
       "      <td>1991</td>\n",
       "      <td>0.000052</td>\n",
       "    </tr>\n",
       "    <tr>\n",
       "      <th>1425</th>\n",
       "      <td>Cuba</td>\n",
       "      <td>1995</td>\n",
       "      <td>0.000092</td>\n",
       "    </tr>\n",
       "    <tr>\n",
       "      <th>1535</th>\n",
       "      <td>Democratic Republic of the Congo</td>\n",
       "      <td>1996</td>\n",
       "      <td>0.000108</td>\n",
       "    </tr>\n",
       "    <tr>\n",
       "      <th>2646</th>\n",
       "      <td>India</td>\n",
       "      <td>1992</td>\n",
       "      <td>0.000111</td>\n",
       "    </tr>\n",
       "    <tr>\n",
       "      <th>...</th>\n",
       "      <td>...</td>\n",
       "      <td>...</td>\n",
       "      <td>...</td>\n",
       "    </tr>\n",
       "    <tr>\n",
       "      <th>4497</th>\n",
       "      <td>Qatar</td>\n",
       "      <td>2022</td>\n",
       "      <td>100.000000</td>\n",
       "    </tr>\n",
       "    <tr>\n",
       "      <th>399</th>\n",
       "      <td>Bahrain</td>\n",
       "      <td>2021</td>\n",
       "      <td>100.000000</td>\n",
       "    </tr>\n",
       "    <tr>\n",
       "      <th>5717</th>\n",
       "      <td>United Arab Emirates</td>\n",
       "      <td>2021</td>\n",
       "      <td>100.000000</td>\n",
       "    </tr>\n",
       "    <tr>\n",
       "      <th>398</th>\n",
       "      <td>Bahrain</td>\n",
       "      <td>2022</td>\n",
       "      <td>100.000000</td>\n",
       "    </tr>\n",
       "    <tr>\n",
       "      <th>4498</th>\n",
       "      <td>Qatar</td>\n",
       "      <td>2021</td>\n",
       "      <td>100.000000</td>\n",
       "    </tr>\n",
       "  </tbody>\n",
       "</table>\n",
       "<p>5803 rows × 3 columns</p>\n",
       "</div>"
      ],
      "text/plain": [
       "                               Country  Year  Internet_Users_Pct\n",
       "1889                          Ethiopia  1995            0.000018\n",
       "5445                          Thailand  1991            0.000052\n",
       "1425                              Cuba  1995            0.000092\n",
       "1535  Democratic Republic of the Congo  1996            0.000108\n",
       "2646                             India  1992            0.000111\n",
       "...                                ...   ...                 ...\n",
       "4497                             Qatar  2022          100.000000\n",
       "399                            Bahrain  2021          100.000000\n",
       "5717              United Arab Emirates  2021          100.000000\n",
       "398                            Bahrain  2022          100.000000\n",
       "4498                             Qatar  2021          100.000000\n",
       "\n",
       "[5803 rows x 3 columns]"
      ]
     },
     "execution_count": 92,
     "metadata": {},
     "output_type": "execute_result"
    }
   ],
   "source": [
    "pct_not_0.sort_values(by='Internet_Users_Pct', ascending=True)"
   ]
  },
  {
   "cell_type": "code",
   "execution_count": 93,
   "id": "0f2b52a4-1694-4748-893e-be80e2f50cb3",
   "metadata": {},
   "outputs": [
    {
     "name": "stdout",
     "output_type": "stream",
     "text": [
      "1990\n"
     ]
    }
   ],
   "source": [
    "earliest_year = pct_not_0[pct_not_0['Internet_Users_Pct']>0] ['Year'].min()\n",
    "print(earliest_year)"
   ]
  },
  {
   "cell_type": "code",
   "execution_count": 94,
   "id": "42bb8b53-56f3-45d7-8e60-5d6f6bf540f7",
   "metadata": {},
   "outputs": [
    {
     "name": "stdout",
     "output_type": "stream",
     "text": [
      "Country                Denmark\n",
      "Year                      1990\n",
      "Internet_Users_Pct    0.097277\n",
      "Name: 1570, dtype: object\n"
     ]
    }
   ],
   "source": [
    "earliest = pct_not_0[pct_not_0['Internet_Users_Pct'] > 0].sort_values('Year').iloc[0]\n",
    "print(earliest)"
   ]
  },
  {
   "cell_type": "markdown",
   "id": "e6d777cf-efbc-481e-bd89-e37756de30bd",
   "metadata": {},
   "source": [
    "## 18. How does the distribution of internet users percent differ for 2000 and 2014?"
   ]
  },
  {
   "cell_type": "code",
   "execution_count": 96,
   "id": "baf39a84-f6ac-432e-a1cd-19ec37a74050",
   "metadata": {},
   "outputs": [],
   "source": [
    "internet_compare = internet_df[(internet_df[\"Year\"] == 2000) | (internet_df[\"Year\"] == 2014)]"
   ]
  },
  {
   "cell_type": "code",
   "execution_count": 97,
   "id": "8d1d6e78-c53d-4f61-9ab3-5e76446ed16a",
   "metadata": {},
   "outputs": [
    {
     "name": "stdout",
     "output_type": "stream",
     "text": [
      "          Country  Year  Internet_Users_Pct\n",
      "5     Afghanistan  2014            7.000000\n",
      "28        Albania  2014           54.300000\n",
      "42        Albania  2000            0.114097\n",
      "57        Algeria  2014           29.500000\n",
      "71        Algeria  2000            0.491706\n",
      "...           ...   ...                 ...\n",
      "6017        Yemen  2000            0.082500\n",
      "6031       Zambia  2014            6.500000\n",
      "6045       Zambia  2000            0.191072\n",
      "6061     Zimbabwe  2014           16.364700\n",
      "6075     Zimbabwe  2000            0.401434\n",
      "\n",
      "[414 rows x 3 columns]\n"
     ]
    }
   ],
   "source": [
    "print(internet_compare)"
   ]
  },
  {
   "cell_type": "code",
   "execution_count": 98,
   "id": "c60356f6-4761-43bb-abcb-a7213fe00595",
   "metadata": {},
   "outputs": [],
   "source": [
    "by_year = internet_compare.sort_values(by='Year')"
   ]
  },
  {
   "cell_type": "code",
   "execution_count": 99,
   "id": "98f22998-4916-4bd7-b8af-f1ed60e8795a",
   "metadata": {},
   "outputs": [
    {
     "name": "stdout",
     "output_type": "stream",
     "text": [
      "                   Country  Year  Internet_Users_Pct\n",
      "6075              Zimbabwe  2000            0.401434\n",
      "2340            Guadeloupe  2000            5.825250\n",
      "2363                  Guam  2000           16.113100\n",
      "4888            Seychelles  2000            7.395630\n",
      "2393             Guatemala  2000            0.712333\n",
      "...                    ...   ...                 ...\n",
      "2656             Indonesia  2014           17.143200\n",
      "2624                 India  2014           13.500000\n",
      "2592               Iceland  2014           98.158000\n",
      "2772                Israel  2014           75.017800\n",
      "3030  Korea (Republic  of)  2014           87.556800\n",
      "\n",
      "[414 rows x 3 columns]\n"
     ]
    }
   ],
   "source": [
    "print(by_year)"
   ]
  },
  {
   "cell_type": "code",
   "execution_count": 100,
   "id": "bb3fb59e-7b2d-4907-8f66-70a53f42b659",
   "metadata": {},
   "outputs": [
    {
     "data": {
      "text/plain": [
       "<Axes: xlabel='Year', ylabel='Internet_Users_Pct'>"
      ]
     },
     "execution_count": 100,
     "metadata": {},
     "output_type": "execute_result"
    },
    {
     "data": {
      "image/png": "[encoded data removed]",
      "text/plain": [
       "<Figure size 640x480 with 1 Axes>"
      ]
     },
     "metadata": {},
     "output_type": "display_data"
    }
   ],
   "source": [
    "sns.boxplot(x=by_year[\"Year\"], y=by_year[\"Internet_Users_Pct\"])"
   ]
  },
  {
   "cell_type": "code",
   "execution_count": 101,
   "id": "df046fe1-61f5-4041-bd62-850d86ccd836",
   "metadata": {},
   "outputs": [
    {
     "data": {
      "text/plain": [
       "<matplotlib.collections.PathCollection at 0x291391177a0>"
      ]
     },
     "execution_count": 101,
     "metadata": {},
     "output_type": "execute_result"
    },
    {
     "data": {
      "image/png": "[encoded data removed]",
      "text/plain": [
       "<Figure size 640x480 with 1 Axes>"
      ]
     },
     "metadata": {},
     "output_type": "display_data"
    }
   ],
   "source": [
    "plt.scatter(by_year.Year, by_year.Internet_Users_Pct)"
   ]
  },
  {
   "cell_type": "markdown",
   "id": "8b81c8b7-63e6-45d4-a1f4-fe283efbc1a9",
   "metadata": {},
   "source": [
    "There is a lot more data in 2014"
   ]
  },
  {
   "cell_type": "markdown",
   "id": "8df800f7-c1a0-48bb-827f-c5623c621989",
   "metadata": {},
   "source": [
    "## 19. For how many countries was the percentage of internet users below 5% in 2014?"
   ]
  },
  {
   "cell_type": "code",
   "execution_count": 104,
   "id": "f78ce135-8fbc-4e86-b7c3-8d62ac1d3355",
   "metadata": {},
   "outputs": [],
   "source": [
    "internet_2014 = internet_df[(internet_df[\"Year\"] == 2014)]"
   ]
  },
  {
   "cell_type": "code",
   "execution_count": 105,
   "id": "253380aa-df80-4102-a91d-1db9bfd7353c",
   "metadata": {},
   "outputs": [
    {
     "name": "stdout",
     "output_type": "stream",
     "text": [
      "                  Country  Year  Internet_Users_Pct\n",
      "5             Afghanistan  2014              7.0000\n",
      "28                Albania  2014             54.3000\n",
      "57                Algeria  2014             29.5000\n",
      "87                Andorra  2014             86.1000\n",
      "114                Angola  2014             21.3623\n",
      "...                   ...   ...                 ...\n",
      "5937             Viet Nam  2014             41.0000\n",
      "5960  Virgin Islands (US)  2014             50.0700\n",
      "6003                Yemen  2014             22.5500\n",
      "6031               Zambia  2014              6.5000\n",
      "6061             Zimbabwe  2014             16.3647\n",
      "\n",
      "[204 rows x 3 columns]\n"
     ]
    }
   ],
   "source": [
    "print(internet_2014)"
   ]
  },
  {
   "cell_type": "code",
   "execution_count": 106,
   "id": "6ab43f9c-521b-4848-af41-4704f0fa5b48",
   "metadata": {},
   "outputs": [],
   "source": [
    "internet2014_below5 = internet_2014[internet_2014['Internet_Users_Pct']<5]"
   ]
  },
  {
   "cell_type": "code",
   "execution_count": 107,
   "id": "3f1a86c3-a29d-444d-b5d6-e99bc907e31a",
   "metadata": {},
   "outputs": [
    {
     "name": "stdout",
     "output_type": "stream",
     "text": [
      "                               Country  Year  Internet_Users_Pct\n",
      "873                            Burundi  2014             1.04239\n",
      "1033          Central African Republic  2014             2.70000\n",
      "1061                              Chad  2014             2.90000\n",
      "1517  Democratic Republic of the Congo  2014             3.00000\n",
      "1782                           Eritrea  2014             0.99000\n",
      "2451                     Guinea-Bissau  2014             3.32000\n",
      "3364                        Madagascar  2014             3.70000\n",
      "4073                             Niger  2014             1.24868\n",
      "5055                           Somalia  2014             1.63000\n",
      "5116                       South Sudan  2014             2.60000\n"
     ]
    }
   ],
   "source": [
    "print(internet2014_below5)"
   ]
  },
  {
   "cell_type": "code",
   "execution_count": 108,
   "id": "ea0a6fdc-4cd1-4188-8a22-ea77c9070eb0",
   "metadata": {},
   "outputs": [
    {
     "data": {
      "text/plain": [
       "Country               10\n",
       "Year                  10\n",
       "Internet_Users_Pct    10\n",
       "dtype: int64"
      ]
     },
     "execution_count": 108,
     "metadata": {},
     "output_type": "execute_result"
    }
   ],
   "source": [
    "internet2014_below5.count()"
   ]
  },
  {
   "cell_type": "markdown",
   "id": "37e1ccfe-669a-4d0b-9d3b-b8394909d7ba",
   "metadata": {},
   "source": [
    "Answer: 10 countries"
   ]
  },
  {
   "cell_type": "markdown",
   "id": "08b1e14f-bd5a-4e06-9cf2-2ade0f311841",
   "metadata": {},
   "source": [
    "## 20. Merge the two DataFrames to one. Do this in a way that keeps all rows from each of the two DataFrames. Call the new DataFrame gdp_and_internet_use. Look at the first and last few rows to confirm that it merged correctly."
   ]
  },
  {
   "cell_type": "code",
   "execution_count": 111,
   "id": "9e4ec261-3627-4e47-b3db-bcd5a8cde6e3",
   "metadata": {},
   "outputs": [],
   "source": [
    "gdp_and_internet_use = pd.merge(gdp_new, internet_df, on=['Country', 'Year'], how = 'outer')"
   ]
  },
  {
   "cell_type": "code",
   "execution_count": 112,
   "id": "2da5e83c-542d-4b33-8fb1-53b8de478501",
   "metadata": {},
   "outputs": [
    {
     "data": {
      "text/html": [
       "<div>\n",
       "<style scoped>\n",
       "    .dataframe tbody tr th:only-of-type {\n",
       "        vertical-align: middle;\n",
       "    }\n",
       "\n",
       "    .dataframe tbody tr th {\n",
       "        vertical-align: top;\n",
       "    }\n",
       "\n",
       "    .dataframe thead th {\n",
       "        text-align: right;\n",
       "    }\n",
       "</style>\n",
       "<table border=\"1\" class=\"dataframe\">\n",
       "  <thead>\n",
       "    <tr style=\"text-align: right;\">\n",
       "      <th></th>\n",
       "      <th>Country</th>\n",
       "      <th>Year</th>\n",
       "      <th>GDP_Per_Capita</th>\n",
       "      <th>Internet_Users_Pct</th>\n",
       "    </tr>\n",
       "  </thead>\n",
       "  <tbody>\n",
       "    <tr>\n",
       "      <th>0</th>\n",
       "      <td>Afghanistan</td>\n",
       "      <td>1990</td>\n",
       "      <td>NaN</td>\n",
       "      <td>0.000000</td>\n",
       "    </tr>\n",
       "    <tr>\n",
       "      <th>1</th>\n",
       "      <td>Afghanistan</td>\n",
       "      <td>2000</td>\n",
       "      <td>1617.826475</td>\n",
       "      <td>NaN</td>\n",
       "    </tr>\n",
       "    <tr>\n",
       "      <th>2</th>\n",
       "      <td>Afghanistan</td>\n",
       "      <td>2001</td>\n",
       "      <td>1454.110782</td>\n",
       "      <td>0.004723</td>\n",
       "    </tr>\n",
       "    <tr>\n",
       "      <th>3</th>\n",
       "      <td>Afghanistan</td>\n",
       "      <td>2002</td>\n",
       "      <td>1774.308743</td>\n",
       "      <td>0.004561</td>\n",
       "    </tr>\n",
       "    <tr>\n",
       "      <th>4</th>\n",
       "      <td>Afghanistan</td>\n",
       "      <td>2003</td>\n",
       "      <td>1815.928200</td>\n",
       "      <td>0.087891</td>\n",
       "    </tr>\n",
       "  </tbody>\n",
       "</table>\n",
       "</div>"
      ],
      "text/plain": [
       "       Country  Year  GDP_Per_Capita  Internet_Users_Pct\n",
       "0  Afghanistan  1990             NaN            0.000000\n",
       "1  Afghanistan  2000     1617.826475                 NaN\n",
       "2  Afghanistan  2001     1454.110782            0.004723\n",
       "3  Afghanistan  2002     1774.308743            0.004561\n",
       "4  Afghanistan  2003     1815.928200            0.087891"
      ]
     },
     "execution_count": 112,
     "metadata": {},
     "output_type": "execute_result"
    }
   ],
   "source": [
    "gdp_and_internet_use.head()"
   ]
  },
  {
   "cell_type": "markdown",
   "id": "6291e653-f90b-459d-ae02-c5b1ba89a23f",
   "metadata": {},
   "source": [
    "## 21. Find the three countries with the highest internet users percentage in 2014. (ICELAND, FALKLAND ISLANDS, BERMUDA) Use a seaborn FacetGrid (https://seaborn.pydata.org/generated/seaborn.FacetGrid.html) to compare how the GDP per capita has changed over time for these three countries. What do you notice?"
   ]
  },
  {
   "cell_type": "code",
   "execution_count": 114,
   "id": "653098bd-c91c-4ba5-9be8-7c63b0610d5c",
   "metadata": {},
   "outputs": [],
   "source": [
    "merged_2014 = gdp_and_internet_use[(gdp_and_internet_use[\"Year\"] == 2014)]"
   ]
  },
  {
   "cell_type": "code",
   "execution_count": 115,
   "id": "684fde14-70c2-4417-b787-56073eea0dc4",
   "metadata": {},
   "outputs": [
    {
     "name": "stdout",
     "output_type": "stream",
     "text": [
      "                          Country  Year  GDP_Per_Capita  Internet_Users_Pct\n",
      "15                    Afghanistan  2014     3017.942544              7.0000\n",
      "49    Africa Eastern and Southern  2014     4052.851526                 NaN\n",
      "83     Africa Western and Central  2014     4816.917355                 NaN\n",
      "117                       Albania  2014    12788.747231             54.3000\n",
      "151                       Algeria  2014    15073.762940             29.5000\n",
      "...                           ...   ...             ...                 ...\n",
      "9361           West Bank and Gaza  2014     5990.426615                 NaN\n",
      "9395                        World  2014    17307.606891                 NaN\n",
      "9424                        Yemen  2014             NaN             22.5500\n",
      "9455                       Zambia  2014     3585.577485              6.5000\n",
      "9489                     Zimbabwe  2014     3360.552173             16.3647\n",
      "\n",
      "[285 rows x 4 columns]\n"
     ]
    }
   ],
   "source": [
    "print(merged_2014)"
   ]
  },
  {
   "cell_type": "code",
   "execution_count": 116,
   "id": "d054f916-ddd3-4f7b-af58-3a2d456ddde2",
   "metadata": {},
   "outputs": [
    {
     "data": {
      "text/html": [
       "<div>\n",
       "<style scoped>\n",
       "    .dataframe tbody tr th:only-of-type {\n",
       "        vertical-align: middle;\n",
       "    }\n",
       "\n",
       "    .dataframe tbody tr th {\n",
       "        vertical-align: top;\n",
       "    }\n",
       "\n",
       "    .dataframe thead th {\n",
       "        text-align: right;\n",
       "    }\n",
       "</style>\n",
       "<table border=\"1\" class=\"dataframe\">\n",
       "  <thead>\n",
       "    <tr style=\"text-align: right;\">\n",
       "      <th></th>\n",
       "      <th>Country</th>\n",
       "      <th>Year</th>\n",
       "      <th>GDP_Per_Capita</th>\n",
       "      <th>Internet_Users_Pct</th>\n",
       "    </tr>\n",
       "  </thead>\n",
       "  <tbody>\n",
       "    <tr>\n",
       "      <th>3944</th>\n",
       "      <td>Iceland</td>\n",
       "      <td>2014</td>\n",
       "      <td>57981.199448</td>\n",
       "      <td>98.1580</td>\n",
       "    </tr>\n",
       "    <tr>\n",
       "      <th>2867</th>\n",
       "      <td>Falkland (Malvinas) Islands</td>\n",
       "      <td>2014</td>\n",
       "      <td>NaN</td>\n",
       "      <td>97.6000</td>\n",
       "    </tr>\n",
       "    <tr>\n",
       "      <th>824</th>\n",
       "      <td>Bermuda</td>\n",
       "      <td>2014</td>\n",
       "      <td>92298.387811</td>\n",
       "      <td>96.8000</td>\n",
       "    </tr>\n",
       "    <tr>\n",
       "      <th>6467</th>\n",
       "      <td>Norway</td>\n",
       "      <td>2014</td>\n",
       "      <td>84753.668395</td>\n",
       "      <td>96.3005</td>\n",
       "    </tr>\n",
       "    <tr>\n",
       "      <th>2168</th>\n",
       "      <td>Denmark</td>\n",
       "      <td>2014</td>\n",
       "      <td>60992.212220</td>\n",
       "      <td>95.9935</td>\n",
       "    </tr>\n",
       "    <tr>\n",
       "      <th>...</th>\n",
       "      <td>...</td>\n",
       "      <td>...</td>\n",
       "      <td>...</td>\n",
       "      <td>...</td>\n",
       "    </tr>\n",
       "    <tr>\n",
       "      <th>8867</th>\n",
       "      <td>TÃ¼rkiye</td>\n",
       "      <td>2014</td>\n",
       "      <td>24573.488878</td>\n",
       "      <td>NaN</td>\n",
       "    </tr>\n",
       "    <tr>\n",
       "      <th>9103</th>\n",
       "      <td>Upper middle income</td>\n",
       "      <td>2014</td>\n",
       "      <td>15312.435710</td>\n",
       "      <td>NaN</td>\n",
       "    </tr>\n",
       "    <tr>\n",
       "      <th>9292</th>\n",
       "      <td>Virgin Islands</td>\n",
       "      <td>2014</td>\n",
       "      <td>42853.898660</td>\n",
       "      <td>NaN</td>\n",
       "    </tr>\n",
       "    <tr>\n",
       "      <th>9361</th>\n",
       "      <td>West Bank and Gaza</td>\n",
       "      <td>2014</td>\n",
       "      <td>5990.426615</td>\n",
       "      <td>NaN</td>\n",
       "    </tr>\n",
       "    <tr>\n",
       "      <th>9395</th>\n",
       "      <td>World</td>\n",
       "      <td>2014</td>\n",
       "      <td>17307.606891</td>\n",
       "      <td>NaN</td>\n",
       "    </tr>\n",
       "  </tbody>\n",
       "</table>\n",
       "<p>285 rows × 4 columns</p>\n",
       "</div>"
      ],
      "text/plain": [
       "                          Country  Year  GDP_Per_Capita  Internet_Users_Pct\n",
       "3944                      Iceland  2014    57981.199448             98.1580\n",
       "2867  Falkland (Malvinas) Islands  2014             NaN             97.6000\n",
       "824                       Bermuda  2014    92298.387811             96.8000\n",
       "6467                       Norway  2014    84753.668395             96.3005\n",
       "2168                      Denmark  2014    60992.212220             95.9935\n",
       "...                           ...   ...             ...                 ...\n",
       "8867                     TÃ¼rkiye  2014    24573.488878                 NaN\n",
       "9103          Upper middle income  2014    15312.435710                 NaN\n",
       "9292               Virgin Islands  2014    42853.898660                 NaN\n",
       "9361           West Bank and Gaza  2014     5990.426615                 NaN\n",
       "9395                        World  2014    17307.606891                 NaN\n",
       "\n",
       "[285 rows x 4 columns]"
      ]
     },
     "execution_count": 116,
     "metadata": {},
     "output_type": "execute_result"
    }
   ],
   "source": [
    "merged_2014.sort_values(by='Internet_Users_Pct', ascending=False)"
   ]
  },
  {
   "cell_type": "markdown",
   "id": "9b49847e-f029-4cdb-8242-95a436f1dd62",
   "metadata": {},
   "source": [
    "## changed after talking to Adell - had Falkland Islands but nothing coming up for GDP"
   ]
  },
  {
   "cell_type": "code",
   "execution_count": 118,
   "id": "72d54b1a-466f-4299-8acc-1b3cb70f728a",
   "metadata": {},
   "outputs": [],
   "source": [
    "top_internet_users = gdp_and_internet_use[(gdp_and_internet_use[\"Country\"].isin([\"Iceland\", \"Bermuda\", \"Norway\"]))]"
   ]
  },
  {
   "cell_type": "code",
   "execution_count": 119,
   "id": "7f108304-53df-4ed5-af4e-145df57fb6c8",
   "metadata": {},
   "outputs": [
    {
     "name": "stdout",
     "output_type": "stream",
     "text": [
      "      Country  Year  GDP_Per_Capita  Internet_Users_Pct\n",
      "800   Bermuda  1990    79109.890650              0.0000\n",
      "801   Bermuda  1991    75754.494259                 NaN\n",
      "802   Bermuda  1992    75160.932166                 NaN\n",
      "803   Bermuda  1993    76883.813796                 NaN\n",
      "804   Bermuda  1994    76850.912239                 NaN\n",
      "...       ...   ...             ...                 ...\n",
      "6472   Norway  2019    87646.526816             98.0000\n",
      "6473   Norway  2020    86018.320698             94.6076\n",
      "6474   Norway  2021    88903.801029             99.0000\n",
      "6475   Norway  2022    90756.895767             99.0000\n",
      "6476   Norway  2023    90160.157502                 NaN\n",
      "\n",
      "[102 rows x 4 columns]\n"
     ]
    }
   ],
   "source": [
    "print(top_internet_users)"
   ]
  },
  {
   "cell_type": "code",
   "execution_count": 120,
   "id": "4725ccc0-ff51-4844-b576-f544c9ae37b5",
   "metadata": {},
   "outputs": [
    {
     "data": {
      "text/plain": [
       "<seaborn.axisgrid.FacetGrid at 0x291392a1460>"
      ]
     },
     "execution_count": 120,
     "metadata": {},
     "output_type": "execute_result"
    },
    {
     "data": {
      "image/png": "[encoded data removed]",
      "text/plain": [
       "<Figure size 1013.37x300 with 3 Axes>"
      ]
     },
     "metadata": {},
     "output_type": "display_data"
    }
   ],
   "source": [
    "grid = sns.FacetGrid(top_internet_users, col=\"Country\", hue=\"Country\")\n",
    "grid.map_dataframe(sns.scatterplot, x = \"Year\", y = \"GDP_Per_Capita\")\n",
    "grid.add_legend()"
   ]
  },
  {
   "cell_type": "markdown",
   "id": "ca06b940-84da-4c46-8baa-4b694236906f",
   "metadata": {},
   "source": [
    "## trying again with Falkland Islands(below)"
   ]
  },
  {
   "cell_type": "code",
   "execution_count": 122,
   "id": "2e62e7c6-24d5-4b40-bc0d-7f0f097505e1",
   "metadata": {},
   "outputs": [],
   "source": [
    "top_internet_users_v2 = gdp_and_internet_use[(gdp_and_internet_use[\"Country\"].isin([\"Iceland\", \"Falkland (Malvinas) Islands\", \"Norway\"]))]"
   ]
  },
  {
   "cell_type": "code",
   "execution_count": 123,
   "id": "d298ded4-56c4-44c4-b0d5-73cb7cf5cdc7",
   "metadata": {},
   "outputs": [
    {
     "data": {
      "text/plain": [
       "<seaborn.axisgrid.FacetGrid at 0x291392f8050>"
      ]
     },
     "execution_count": 123,
     "metadata": {},
     "output_type": "execute_result"
    },
    {
     "data": {
      "image/png": "[encoded data removed]",
      "text/plain": [
       "<Figure size 1136.62x300 with 3 Axes>"
      ]
     },
     "metadata": {},
     "output_type": "display_data"
    }
   ],
   "source": [
    "grid = sns.FacetGrid(top_internet_users_v2, col=\"Country\", hue=\"Country\")\n",
    "grid.map_dataframe(sns.scatterplot, x = \"Year\", y = \"GDP_Per_Capita\")\n",
    "grid.add_legend()"
   ]
  },
  {
   "cell_type": "markdown",
   "id": "cbb19904-cd1e-46f7-a8e4-6e0542274c87",
   "metadata": {},
   "source": [
    "## 22. Subset gdp_and_internet_use to just the year 2014. Save this as a new dataframe named gdp_and_internet_use_2014."
   ]
  },
  {
   "cell_type": "code",
   "execution_count": 125,
   "id": "055b5121-6f98-4253-aaf8-f928e377b407",
   "metadata": {},
   "outputs": [],
   "source": [
    "gdp_and_internet_use_2014 = gdp_and_internet_use[(gdp_and_internet_use[\"Year\"] == 2014)]"
   ]
  },
  {
   "cell_type": "code",
   "execution_count": 126,
   "id": "e0ad48fb-b130-4516-9115-842120ea5ffe",
   "metadata": {},
   "outputs": [
    {
     "data": {
      "text/html": [
       "<div>\n",
       "<style scoped>\n",
       "    .dataframe tbody tr th:only-of-type {\n",
       "        vertical-align: middle;\n",
       "    }\n",
       "\n",
       "    .dataframe tbody tr th {\n",
       "        vertical-align: top;\n",
       "    }\n",
       "\n",
       "    .dataframe thead th {\n",
       "        text-align: right;\n",
       "    }\n",
       "</style>\n",
       "<table border=\"1\" class=\"dataframe\">\n",
       "  <thead>\n",
       "    <tr style=\"text-align: right;\">\n",
       "      <th></th>\n",
       "      <th>Country</th>\n",
       "      <th>Year</th>\n",
       "      <th>GDP_Per_Capita</th>\n",
       "      <th>Internet_Users_Pct</th>\n",
       "    </tr>\n",
       "  </thead>\n",
       "  <tbody>\n",
       "    <tr>\n",
       "      <th>15</th>\n",
       "      <td>Afghanistan</td>\n",
       "      <td>2014</td>\n",
       "      <td>3017.942544</td>\n",
       "      <td>7.0</td>\n",
       "    </tr>\n",
       "    <tr>\n",
       "      <th>49</th>\n",
       "      <td>Africa Eastern and Southern</td>\n",
       "      <td>2014</td>\n",
       "      <td>4052.851526</td>\n",
       "      <td>NaN</td>\n",
       "    </tr>\n",
       "    <tr>\n",
       "      <th>83</th>\n",
       "      <td>Africa Western and Central</td>\n",
       "      <td>2014</td>\n",
       "      <td>4816.917355</td>\n",
       "      <td>NaN</td>\n",
       "    </tr>\n",
       "    <tr>\n",
       "      <th>117</th>\n",
       "      <td>Albania</td>\n",
       "      <td>2014</td>\n",
       "      <td>12788.747231</td>\n",
       "      <td>54.3</td>\n",
       "    </tr>\n",
       "    <tr>\n",
       "      <th>151</th>\n",
       "      <td>Algeria</td>\n",
       "      <td>2014</td>\n",
       "      <td>15073.762940</td>\n",
       "      <td>29.5</td>\n",
       "    </tr>\n",
       "  </tbody>\n",
       "</table>\n",
       "</div>"
      ],
      "text/plain": [
       "                         Country  Year  GDP_Per_Capita  Internet_Users_Pct\n",
       "15                   Afghanistan  2014     3017.942544                 7.0\n",
       "49   Africa Eastern and Southern  2014     4052.851526                 NaN\n",
       "83    Africa Western and Central  2014     4816.917355                 NaN\n",
       "117                      Albania  2014    12788.747231                54.3\n",
       "151                      Algeria  2014    15073.762940                29.5"
      ]
     },
     "execution_count": 126,
     "metadata": {},
     "output_type": "execute_result"
    }
   ],
   "source": [
    "gdp_and_internet_use_2014.head()"
   ]
  },
  {
   "cell_type": "markdown",
   "id": "15e499fe-b42a-4bfd-a951-a3b1ae4ea3e1",
   "metadata": {},
   "source": [
    "## 23. Create a plot which compares Internet Users Percentage and GDP per Capita for the year 2014. What do you notice from this plot? If you see any unusual points, investigate them."
   ]
  },
  {
   "cell_type": "code",
   "execution_count": 128,
   "id": "b56d7348-076f-455b-b0dd-8ddc8b8e16d6",
   "metadata": {},
   "outputs": [
    {
     "data": {
      "image/png": "[encoded data removed]",
      "text/plain": [
       "<Figure size 640x480 with 1 Axes>"
      ]
     },
     "metadata": {},
     "output_type": "display_data"
    }
   ],
   "source": [
    "sns.lineplot(data=gdp_and_internet_use_2014, x=\"Internet_Users_Pct\", y=\"GDP_Per_Capita\", color=\"orange\")\n",
    "plt.xlabel(\"% of Internet Users\")\n",
    "plt.ylabel(\"GDP per Capita\")\n",
    "plt.title(\"Percentage of Internet Users vs. GDP per Capita (2014)\")\n",
    "plt.show()"
   ]
  },
  {
   "cell_type": "code",
   "execution_count": 129,
   "id": "cbb8f8c4-a0f1-497b-848c-22d54010047e",
   "metadata": {},
   "outputs": [
    {
     "data": {
      "text/plain": [
       "<Axes: xlabel='Internet_Users_Pct', ylabel='GDP_Per_Capita'>"
      ]
     },
     "execution_count": 129,
     "metadata": {},
     "output_type": "execute_result"
    },
    {
     "data": {
      "image/png": "[encoded data removed]",
      "text/plain": [
       "<Figure size 640x480 with 1 Axes>"
      ]
     },
     "metadata": {},
     "output_type": "display_data"
    }
   ],
   "source": [
    "sns.scatterplot(data=gdp_and_internet_use_2014, x=\"Internet_Users_Pct\", y=\"GDP_Per_Capita\")"
   ]
  },
  {
   "cell_type": "markdown",
   "id": "0cf6e138-d991-4dff-89b0-40b01e000d1f",
   "metadata": {},
   "source": [
    "In general, it looks like there's a relationship between GDP per Capita and %age of Internet Users in each country. There are some outliers, like Iceland (98% internet but mid-range GDP)"
   ]
  },
  {
   "cell_type": "code",
   "execution_count": 131,
   "id": "c0c71d19-c899-4d27-b563-cecf13c1ae67",
   "metadata": {},
   "outputs": [
    {
     "name": "stdout",
     "output_type": "stream",
     "text": [
      "                          Country  Year  GDP_Per_Capita  Internet_Users_Pct\n",
      "15                    Afghanistan  2014     3017.942544              7.0000\n",
      "49    Africa Eastern and Southern  2014     4052.851526                 NaN\n",
      "83     Africa Western and Central  2014     4816.917355                 NaN\n",
      "117                       Albania  2014    12788.747231             54.3000\n",
      "151                       Algeria  2014    15073.762940             29.5000\n",
      "...                           ...   ...             ...                 ...\n",
      "9361           West Bank and Gaza  2014     5990.426615                 NaN\n",
      "9395                        World  2014    17307.606891                 NaN\n",
      "9424                        Yemen  2014             NaN             22.5500\n",
      "9455                       Zambia  2014     3585.577485              6.5000\n",
      "9489                     Zimbabwe  2014     3360.552173             16.3647\n",
      "\n",
      "[285 rows x 4 columns]\n"
     ]
    }
   ],
   "source": [
    "print(gdp_and_internet_use_2014)"
   ]
  },
  {
   "cell_type": "code",
   "execution_count": 132,
   "id": "8996720e-79f7-4622-8e21-5ac7c67a3906",
   "metadata": {},
   "outputs": [
    {
     "data": {
      "text/html": [
       "<div>\n",
       "<style scoped>\n",
       "    .dataframe tbody tr th:only-of-type {\n",
       "        vertical-align: middle;\n",
       "    }\n",
       "\n",
       "    .dataframe tbody tr th {\n",
       "        vertical-align: top;\n",
       "    }\n",
       "\n",
       "    .dataframe thead th {\n",
       "        text-align: right;\n",
       "    }\n",
       "</style>\n",
       "<table border=\"1\" class=\"dataframe\">\n",
       "  <thead>\n",
       "    <tr style=\"text-align: right;\">\n",
       "      <th></th>\n",
       "      <th>Country</th>\n",
       "      <th>Year</th>\n",
       "      <th>GDP_Per_Capita</th>\n",
       "      <th>Internet_Users_Pct</th>\n",
       "    </tr>\n",
       "  </thead>\n",
       "  <tbody>\n",
       "    <tr>\n",
       "      <th>5234</th>\n",
       "      <td>Macao SAR, China</td>\n",
       "      <td>2014</td>\n",
       "      <td>162582.374111</td>\n",
       "      <td>NaN</td>\n",
       "    </tr>\n",
       "    <tr>\n",
       "      <th>5200</th>\n",
       "      <td>Luxembourg</td>\n",
       "      <td>2014</td>\n",
       "      <td>129443.183641</td>\n",
       "      <td>94.6702</td>\n",
       "    </tr>\n",
       "    <tr>\n",
       "      <th>7045</th>\n",
       "      <td>Qatar</td>\n",
       "      <td>2014</td>\n",
       "      <td>128013.987046</td>\n",
       "      <td>91.4900</td>\n",
       "    </tr>\n",
       "    <tr>\n",
       "      <th>7566</th>\n",
       "      <td>Singapore</td>\n",
       "      <td>2014</td>\n",
       "      <td>106604.492771</td>\n",
       "      <td>79.0292</td>\n",
       "    </tr>\n",
       "    <tr>\n",
       "      <th>824</th>\n",
       "      <td>Bermuda</td>\n",
       "      <td>2014</td>\n",
       "      <td>92298.387811</td>\n",
       "      <td>96.8000</td>\n",
       "    </tr>\n",
       "    <tr>\n",
       "      <th>...</th>\n",
       "      <td>...</td>\n",
       "      <td>...</td>\n",
       "      <td>...</td>\n",
       "      <td>...</td>\n",
       "    </tr>\n",
       "    <tr>\n",
       "      <th>8106</th>\n",
       "      <td>State of Palestine</td>\n",
       "      <td>2014</td>\n",
       "      <td>NaN</td>\n",
       "      <td>53.6652</td>\n",
       "    </tr>\n",
       "    <tr>\n",
       "      <th>8899</th>\n",
       "      <td>Türkiye</td>\n",
       "      <td>2014</td>\n",
       "      <td>NaN</td>\n",
       "      <td>51.0374</td>\n",
       "    </tr>\n",
       "    <tr>\n",
       "      <th>9242</th>\n",
       "      <td>Venezuela</td>\n",
       "      <td>2014</td>\n",
       "      <td>NaN</td>\n",
       "      <td>57.0000</td>\n",
       "    </tr>\n",
       "    <tr>\n",
       "      <th>9322</th>\n",
       "      <td>Virgin Islands (US)</td>\n",
       "      <td>2014</td>\n",
       "      <td>NaN</td>\n",
       "      <td>50.0700</td>\n",
       "    </tr>\n",
       "    <tr>\n",
       "      <th>9424</th>\n",
       "      <td>Yemen</td>\n",
       "      <td>2014</td>\n",
       "      <td>NaN</td>\n",
       "      <td>22.5500</td>\n",
       "    </tr>\n",
       "  </tbody>\n",
       "</table>\n",
       "<p>285 rows × 4 columns</p>\n",
       "</div>"
      ],
      "text/plain": [
       "                  Country  Year  GDP_Per_Capita  Internet_Users_Pct\n",
       "5234     Macao SAR, China  2014   162582.374111                 NaN\n",
       "5200           Luxembourg  2014   129443.183641             94.6702\n",
       "7045                Qatar  2014   128013.987046             91.4900\n",
       "7566            Singapore  2014   106604.492771             79.0292\n",
       "824               Bermuda  2014    92298.387811             96.8000\n",
       "...                   ...   ...             ...                 ...\n",
       "8106   State of Palestine  2014             NaN             53.6652\n",
       "8899              Türkiye  2014             NaN             51.0374\n",
       "9242            Venezuela  2014             NaN             57.0000\n",
       "9322  Virgin Islands (US)  2014             NaN             50.0700\n",
       "9424                Yemen  2014             NaN             22.5500\n",
       "\n",
       "[285 rows x 4 columns]"
      ]
     },
     "execution_count": 132,
     "metadata": {},
     "output_type": "execute_result"
    }
   ],
   "source": [
    "gdp_and_internet_use_2014.sort_values(by='GDP_Per_Capita', ascending=False)"
   ]
  },
  {
   "cell_type": "code",
   "execution_count": 133,
   "id": "73db74fc-948f-4a6a-9792-de52dfb575fa",
   "metadata": {},
   "outputs": [
    {
     "data": {
      "text/html": [
       "<div>\n",
       "<style scoped>\n",
       "    .dataframe tbody tr th:only-of-type {\n",
       "        vertical-align: middle;\n",
       "    }\n",
       "\n",
       "    .dataframe tbody tr th {\n",
       "        vertical-align: top;\n",
       "    }\n",
       "\n",
       "    .dataframe thead th {\n",
       "        text-align: right;\n",
       "    }\n",
       "</style>\n",
       "<table border=\"1\" class=\"dataframe\">\n",
       "  <thead>\n",
       "    <tr style=\"text-align: right;\">\n",
       "      <th></th>\n",
       "      <th>Country</th>\n",
       "      <th>Year</th>\n",
       "      <th>GDP_Per_Capita</th>\n",
       "      <th>Internet_Users_Pct</th>\n",
       "    </tr>\n",
       "  </thead>\n",
       "  <tbody>\n",
       "    <tr>\n",
       "      <th>3944</th>\n",
       "      <td>Iceland</td>\n",
       "      <td>2014</td>\n",
       "      <td>57981.199448</td>\n",
       "      <td>98.1580</td>\n",
       "    </tr>\n",
       "    <tr>\n",
       "      <th>2867</th>\n",
       "      <td>Falkland (Malvinas) Islands</td>\n",
       "      <td>2014</td>\n",
       "      <td>NaN</td>\n",
       "      <td>97.6000</td>\n",
       "    </tr>\n",
       "    <tr>\n",
       "      <th>824</th>\n",
       "      <td>Bermuda</td>\n",
       "      <td>2014</td>\n",
       "      <td>92298.387811</td>\n",
       "      <td>96.8000</td>\n",
       "    </tr>\n",
       "    <tr>\n",
       "      <th>6467</th>\n",
       "      <td>Norway</td>\n",
       "      <td>2014</td>\n",
       "      <td>84753.668395</td>\n",
       "      <td>96.3005</td>\n",
       "    </tr>\n",
       "    <tr>\n",
       "      <th>2168</th>\n",
       "      <td>Denmark</td>\n",
       "      <td>2014</td>\n",
       "      <td>60992.212220</td>\n",
       "      <td>95.9935</td>\n",
       "    </tr>\n",
       "    <tr>\n",
       "      <th>...</th>\n",
       "      <td>...</td>\n",
       "      <td>...</td>\n",
       "      <td>...</td>\n",
       "      <td>...</td>\n",
       "    </tr>\n",
       "    <tr>\n",
       "      <th>8867</th>\n",
       "      <td>TÃ¼rkiye</td>\n",
       "      <td>2014</td>\n",
       "      <td>24573.488878</td>\n",
       "      <td>NaN</td>\n",
       "    </tr>\n",
       "    <tr>\n",
       "      <th>9103</th>\n",
       "      <td>Upper middle income</td>\n",
       "      <td>2014</td>\n",
       "      <td>15312.435710</td>\n",
       "      <td>NaN</td>\n",
       "    </tr>\n",
       "    <tr>\n",
       "      <th>9292</th>\n",
       "      <td>Virgin Islands</td>\n",
       "      <td>2014</td>\n",
       "      <td>42853.898660</td>\n",
       "      <td>NaN</td>\n",
       "    </tr>\n",
       "    <tr>\n",
       "      <th>9361</th>\n",
       "      <td>West Bank and Gaza</td>\n",
       "      <td>2014</td>\n",
       "      <td>5990.426615</td>\n",
       "      <td>NaN</td>\n",
       "    </tr>\n",
       "    <tr>\n",
       "      <th>9395</th>\n",
       "      <td>World</td>\n",
       "      <td>2014</td>\n",
       "      <td>17307.606891</td>\n",
       "      <td>NaN</td>\n",
       "    </tr>\n",
       "  </tbody>\n",
       "</table>\n",
       "<p>285 rows × 4 columns</p>\n",
       "</div>"
      ],
      "text/plain": [
       "                          Country  Year  GDP_Per_Capita  Internet_Users_Pct\n",
       "3944                      Iceland  2014    57981.199448             98.1580\n",
       "2867  Falkland (Malvinas) Islands  2014             NaN             97.6000\n",
       "824                       Bermuda  2014    92298.387811             96.8000\n",
       "6467                       Norway  2014    84753.668395             96.3005\n",
       "2168                      Denmark  2014    60992.212220             95.9935\n",
       "...                           ...   ...             ...                 ...\n",
       "8867                     TÃ¼rkiye  2014    24573.488878                 NaN\n",
       "9103          Upper middle income  2014    15312.435710                 NaN\n",
       "9292               Virgin Islands  2014    42853.898660                 NaN\n",
       "9361           West Bank and Gaza  2014     5990.426615                 NaN\n",
       "9395                        World  2014    17307.606891                 NaN\n",
       "\n",
       "[285 rows x 4 columns]"
      ]
     },
     "execution_count": 133,
     "metadata": {},
     "output_type": "execute_result"
    }
   ],
   "source": [
    "gdp_and_internet_use_2014.sort_values(by='Internet_Users_Pct', ascending=False)"
   ]
  },
  {
   "cell_type": "markdown",
   "id": "255cb8d8-d6be-41bd-87dc-b64c2fdb2f21",
   "metadata": {},
   "source": [
    "## 24. Stretch Question: Use the qcut function from pandas (https://pandas.pydata.org/docs/reference/api/pandas.qcut.html) to divide countries in gdp_per_capita_2014 into three groups based on their GDP per capita values. Label these groups as \"Low\", \"Medium\", and \"High\". Put these labels in a new column, named \"GDP_group\"."
   ]
  },
  {
   "cell_type": "code",
   "execution_count": 135,
   "id": "6ed5d514-3dc4-4668-935b-364254204b19",
   "metadata": {},
   "outputs": [],
   "source": [
    "gdp_and_internet_use_2014 = gdp_and_internet_use_2014.dropna(subset=['GDP_Per_Capita'])"
   ]
  },
  {
   "cell_type": "code",
   "execution_count": 136,
   "id": "78f87013-6ec8-4fcd-81c7-9e89bbab0271",
   "metadata": {},
   "outputs": [],
   "source": [
    "gdp_and_internet_use_2014.loc[:, 'GDP_group'] = pd.qcut(\n",
    "    gdp_and_internet_use_2014['GDP_Per_Capita'], \n",
    "    q=3, \n",
    "    labels=['Low', 'Medium', 'High']\n",
    ")"
   ]
  },
  {
   "cell_type": "code",
   "execution_count": 137,
   "id": "e1476ddd-bbc6-4641-ab6a-2fe9d07f73d8",
   "metadata": {},
   "outputs": [
    {
     "data": {
      "text/html": [
       "<div>\n",
       "<style scoped>\n",
       "    .dataframe tbody tr th:only-of-type {\n",
       "        vertical-align: middle;\n",
       "    }\n",
       "\n",
       "    .dataframe tbody tr th {\n",
       "        vertical-align: top;\n",
       "    }\n",
       "\n",
       "    .dataframe thead th {\n",
       "        text-align: right;\n",
       "    }\n",
       "</style>\n",
       "<table border=\"1\" class=\"dataframe\">\n",
       "  <thead>\n",
       "    <tr style=\"text-align: right;\">\n",
       "      <th></th>\n",
       "      <th>Country</th>\n",
       "      <th>Year</th>\n",
       "      <th>GDP_Per_Capita</th>\n",
       "      <th>Internet_Users_Pct</th>\n",
       "      <th>GDP_group</th>\n",
       "    </tr>\n",
       "  </thead>\n",
       "  <tbody>\n",
       "    <tr>\n",
       "      <th>15</th>\n",
       "      <td>Afghanistan</td>\n",
       "      <td>2014</td>\n",
       "      <td>3017.942544</td>\n",
       "      <td>7.0</td>\n",
       "      <td>Low</td>\n",
       "    </tr>\n",
       "    <tr>\n",
       "      <th>49</th>\n",
       "      <td>Africa Eastern and Southern</td>\n",
       "      <td>2014</td>\n",
       "      <td>4052.851526</td>\n",
       "      <td>NaN</td>\n",
       "      <td>Low</td>\n",
       "    </tr>\n",
       "    <tr>\n",
       "      <th>83</th>\n",
       "      <td>Africa Western and Central</td>\n",
       "      <td>2014</td>\n",
       "      <td>4816.917355</td>\n",
       "      <td>NaN</td>\n",
       "      <td>Low</td>\n",
       "    </tr>\n",
       "    <tr>\n",
       "      <th>117</th>\n",
       "      <td>Albania</td>\n",
       "      <td>2014</td>\n",
       "      <td>12788.747231</td>\n",
       "      <td>54.3</td>\n",
       "      <td>Medium</td>\n",
       "    </tr>\n",
       "    <tr>\n",
       "      <th>151</th>\n",
       "      <td>Algeria</td>\n",
       "      <td>2014</td>\n",
       "      <td>15073.762940</td>\n",
       "      <td>29.5</td>\n",
       "      <td>Medium</td>\n",
       "    </tr>\n",
       "  </tbody>\n",
       "</table>\n",
       "</div>"
      ],
      "text/plain": [
       "                         Country  Year  GDP_Per_Capita  Internet_Users_Pct  \\\n",
       "15                   Afghanistan  2014     3017.942544                 7.0   \n",
       "49   Africa Eastern and Southern  2014     4052.851526                 NaN   \n",
       "83    Africa Western and Central  2014     4816.917355                 NaN   \n",
       "117                      Albania  2014    12788.747231                54.3   \n",
       "151                      Algeria  2014    15073.762940                29.5   \n",
       "\n",
       "    GDP_group  \n",
       "15        Low  \n",
       "49        Low  \n",
       "83        Low  \n",
       "117    Medium  \n",
       "151    Medium  "
      ]
     },
     "execution_count": 137,
     "metadata": {},
     "output_type": "execute_result"
    }
   ],
   "source": [
    "gdp_and_internet_use_2014.head()"
   ]
  },
  {
   "cell_type": "markdown",
   "id": "f07ca618-ebd7-45c0-b3bd-e5f84256537d",
   "metadata": {},
   "source": [
    "## 25. Stretch Question: How does the median internet users percentage compare for the three gdp groups?"
   ]
  },
  {
   "cell_type": "code",
   "execution_count": 139,
   "id": "c9d8eac2-bbad-403c-8aad-dc761474677c",
   "metadata": {},
   "outputs": [
    {
     "name": "stderr",
     "output_type": "stream",
     "text": [
      "C:\\Users\\Lucy\\AppData\\Local\\Temp\\ipykernel_4164\\1179629846.py:1: FutureWarning: The default of observed=False is deprecated and will be changed to True in a future version of pandas. Pass observed=False to retain current behavior or observed=True to adopt the future default and silence this warning.\n",
      "  gdp_and_internet_use_2014.groupby('GDP_group')['Internet_Users_Pct'].median()\n"
     ]
    },
    {
     "data": {
      "text/plain": [
       "GDP_group\n",
       "Low       11.6000\n",
       "Medium    44.5945\n",
       "High      75.9800\n",
       "Name: Internet_Users_Pct, dtype: float64"
      ]
     },
     "execution_count": 139,
     "metadata": {},
     "output_type": "execute_result"
    }
   ],
   "source": [
    "gdp_and_internet_use_2014.groupby('GDP_group')['Internet_Users_Pct'].median()"
   ]
  },
  {
   "cell_type": "markdown",
   "id": "40031520-db7e-4f43-95fc-d63d352cb575",
   "metadata": {},
   "source": [
    "## Median of low: 11.6, Median of medium: 44.59, Median of high: 75.98"
   ]
  },
  {
   "cell_type": "markdown",
   "id": "ababa46e-4fca-4907-bc00-4fcb78bd5af6",
   "metadata": {},
   "source": [
    "## BONUS: Download another data set from the UN data (http://data.un.org/Explorer.aspx) to merge with your data and explore."
   ]
  },
  {
   "cell_type": "code",
   "execution_count": null,
   "id": "1296eb9c-c82c-4599-a3aa-10830c6ad70a",
   "metadata": {},
   "outputs": [],
   "source": []
  }
 ],
 "metadata": {
  "kernelspec": {
   "display_name": "Python [conda env:base] *",
   "language": "python",
   "name": "conda-base-py"
  },
  "language_info": {
   "codemirror_mode": {
    "name": "ipython",
    "version": 3
   },
   "file_extension": ".py",
   "mimetype": "text/x-python",
   "name": "python",
   "nbconvert_exporter": "python",
   "pygments_lexer": "ipython3",
   "version": "3.12.7"
  }
 },
 "nbformat": 4,
 "nbformat_minor": 5
}
